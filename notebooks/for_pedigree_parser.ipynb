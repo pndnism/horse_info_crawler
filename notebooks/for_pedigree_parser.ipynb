{
 "cells": [
  {
   "cell_type": "code",
   "execution_count": 1,
   "metadata": {},
   "outputs": [],
   "source": [
    "import re\n",
    "import requests\n",
    "from bs4 import BeautifulSoup"
   ]
  },
  {
   "cell_type": "code",
   "execution_count": 2,
   "metadata": {},
   "outputs": [],
   "source": [
    "url = \"https://db.netkeiba.com/horse/2014102226/\""
   ]
  },
  {
   "cell_type": "code",
   "execution_count": 3,
   "metadata": {},
   "outputs": [],
   "source": [
    "r = requests.get(url)"
   ]
  },
  {
   "cell_type": "code",
   "execution_count": 4,
   "metadata": {},
   "outputs": [],
   "source": [
    "soup = BeautifulSoup(r.content, 'lxml')"
   ]
  },
  {
   "cell_type": "code",
   "execution_count": 8,
   "metadata": {},
   "outputs": [],
   "source": [
    "blood_table = soup.find_all(\"dd\", class_=\"DB_ProfHead_dd_01\")[0]"
   ]
  },
  {
   "cell_type": "code",
   "execution_count": 12,
   "metadata": {},
   "outputs": [
    {
     "data": {
      "text/plain": [
       "[<a href=\"/horse/ped/1998190003/\" title=\"ストーミングホーム\">ストーミングホーム</a>,\n",
       " <a href=\"/horse/ped/000a001c1d/\">Machiavellian</a>,\n",
       " <a href=\"/horse/ped/000a010a70/\">Try to Catch Me</a>,\n",
       " <a href=\"/horse/ped/2008105782/\">レディオブパーシャ</a>,\n",
       " <a href=\"/horse/ped/000a010c92/\">Shamardal</a>,\n",
       " <a href=\"/horse/ped/000a0111fb/\">ビールジャント</a>]"
      ]
     },
     "execution_count": 12,
     "metadata": {},
     "output_type": "execute_result"
    }
   ],
   "source": [
    "blood_table.find_all(\"a\")"
   ]
  },
  {
   "cell_type": "code",
   "execution_count": 28,
   "metadata": {},
   "outputs": [],
   "source": [
    "profile_dic = {}\n",
    "for i,j in zip(profile_table.find_all(\"th\"), profile_table.find_all(\"td\")):\n",
    "    profile_dic[i.text] = j.text"
   ]
  },
  {
   "cell_type": "code",
   "execution_count": 29,
   "metadata": {},
   "outputs": [
    {
     "data": {
      "text/plain": [
       "{'生年月日': '2014年4月11日',\n",
       " '調教師': '西浦勝一 (栗東)',\n",
       " '馬主': 'ゴドルフィン',\n",
       " '生産者': 'ダーレー・ジャパン・ファーム',\n",
       " '産地': '日高町',\n",
       " 'セリ取引価格': '\\n-\\n',\n",
       " '獲得賞金': '\\n\\n\\n1億1,338万円 (中央)\\n\\n',\n",
       " '通算成績': '30戦6勝 [6-5-7-12]',\n",
       " '主な勝鞍': \"20'ギャラクシーS(OP)\",\n",
       " '近親馬': 'ウーマンズハート'}"
      ]
     },
     "execution_count": 29,
     "metadata": {},
     "output_type": "execute_result"
    }
   ],
   "source": [
    "profile_dic"
   ]
  },
  {
   "cell_type": "code",
   "execution_count": 6,
   "metadata": {},
   "outputs": [
    {
     "ename": "TypeError",
     "evalue": "'NoneType' object is not callable",
     "output_type": "error",
     "traceback": [
      "\u001b[0;31m---------------------------------------------------------------------------\u001b[0m",
      "\u001b[0;31mTypeError\u001b[0m                                 Traceback (most recent call last)",
      "\u001b[0;32m<ipython-input-6-05993796c286>\u001b[0m in \u001b[0;36m<module>\u001b[0;34m\u001b[0m\n\u001b[0;32m----> 1\u001b[0;31m \u001b[0msoup\u001b[0m\u001b[0;34m.\u001b[0m\u001b[0mcssselect\u001b[0m\u001b[0;34m(\u001b[0m\u001b[0;34m'#db_main_box > div.db_main_deta > div > div.db_prof_area_02 > div > dl > dd > table'\u001b[0m\u001b[0;34m)\u001b[0m\u001b[0;34m\u001b[0m\u001b[0;34m\u001b[0m\u001b[0m\n\u001b[0m",
      "\u001b[0;31mTypeError\u001b[0m: 'NoneType' object is not callable"
     ]
    }
   ],
   "source": [
    "soup.cssselect('#db_main_box > div.db_main_deta > div > div.db_prof_area_02 > div > dl > dd > table')"
   ]
  },
  {
   "cell_type": "code",
   "execution_count": null,
   "metadata": {},
   "outputs": [],
   "source": []
  }
 ],
 "metadata": {
  "kernelspec": {
   "display_name": "Python 3",
   "language": "python",
   "name": "python3"
  },
  "language_info": {
   "codemirror_mode": {
    "name": "ipython",
    "version": 3
   },
   "file_extension": ".py",
   "mimetype": "text/x-python",
   "name": "python",
   "nbconvert_exporter": "python",
   "pygments_lexer": "ipython3",
   "version": "3.8.1"
  }
 },
 "nbformat": 4,
 "nbformat_minor": 4
}
