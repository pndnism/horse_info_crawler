{
 "cells": [
  {
   "cell_type": "code",
   "execution_count": 1,
   "metadata": {},
   "outputs": [],
   "source": [
    "import requests\n",
    "from bs4 import BeautifulSoup\n",
    "import re\n",
    "import html"
   ]
  },
  {
   "cell_type": "code",
   "execution_count": 58,
   "metadata": {},
   "outputs": [
    {
     "ename": "SyntaxError",
     "evalue": "invalid syntax (<ipython-input-58-640c3806017e>, line 4)",
     "output_type": "error",
     "traceback": [
      "\u001b[0;36m  File \u001b[0;32m\"<ipython-input-58-640c3806017e>\"\u001b[0;36m, line \u001b[0;32m4\u001b[0m\n\u001b[0;31m    print(soup. (re.compile(\"race\")))\u001b[0m\n\u001b[0m                ^\u001b[0m\n\u001b[0;31mSyntaxError\u001b[0m\u001b[0;31m:\u001b[0m invalid syntax\n"
     ]
    }
   ],
   "source": [
    "with open(\"../tests/race/parser/data/test_parse_normal_last_lising_page.html\") as f:\n",
    "    response_html = f.read()\n",
    "    soup = BeautifulSoup(response_html, \"html.parser\")\n",
    "    print(soup. (re.compile(\"race\")))"
   ]
  },
  {
   "cell_type": "code",
   "execution_count": 59,
   "metadata": {},
   "outputs": [],
   "source": [
    "file_ = \"../tests/race/parser/data/test_parse_normal_last_lising_page.html\""
   ]
  },
  {
   "cell_type": "code",
   "execution_count": 60,
   "metadata": {},
   "outputs": [],
   "source": [
    "response_html = open(file_)"
   ]
  },
  {
   "cell_type": "code",
   "execution_count": 61,
   "metadata": {},
   "outputs": [],
   "source": [
    "soup = BeautifulSoup(response_html, \"html.parser\")"
   ]
  },
  {
   "cell_type": "code",
   "execution_count": 65,
   "metadata": {},
   "outputs": [
    {
     "data": {
      "text/plain": [
       "['/race/1799A6050905/',\n",
       " '/race/1798A6052405/',\n",
       " '/race/1797A6060105/',\n",
       " '/race/1796A6051205/',\n",
       " '/race/1795A6052105/',\n",
       " '/race/1794A6060505/',\n",
       " '/race/1793A6051605/',\n",
       " '/race/1792A6052405/',\n",
       " '/race/1791A6060905/',\n",
       " '/race/1790A6052005/',\n",
       " '/race/1789A6052805/',\n",
       " '/race/1788A6050805/',\n",
       " '/race/1787A6052405/',\n",
       " '/race/1786A6053105/',\n",
       " '/race/1785A6050505/',\n",
       " '/race/1784A6052005/',\n",
       " '/race/1783A6052905/',\n",
       " '/race/1782A6050905/',\n",
       " '/race/1781A6052405/',\n",
       " '/race/1780A6050405/']"
      ]
     },
     "execution_count": 65,
     "metadata": {},
     "output_type": "execute_result"
    }
   ],
   "source": [
    "[i.get(\"href\") for i in soup.find_all(href=re.compile(\"/race/\\d\"))]"
   ]
  },
  {
   "cell_type": "code",
   "execution_count": 5,
   "metadata": {},
   "outputs": [],
   "source": [
    "RACE_LISTING_PAGE_POST_INPUT_DIC = {\n",
    "    \"pid\":\"race_list\",\n",
    "    \"sort_key\":\"date\",\n",
    "    \"sort_type\":\"desc\",\n",
    "    \"serial\":\"a%3A15%3A%7Bs%3A3%3A%22pid%22%3Bs%3A9%3A%22race_list%22%3Bs%3A4%3A%22word%22%3Bs%3A0%3A%22%22%3Bs%3A5%3A%22track%22%3Ba%3A2%3A%7Bi%3A0%3Bs%3A1%3A%221%22%3Bi%3A1%3Bs%3A1%3A%222%22%3B%7Ds%3A10%3A%22start_year%22%3Bs%3A4%3A%22none%22%3Bs%3A9%3A%22start_mon%22%3Bs%3A4%3A%22none%22%3Bs%3A8%3A%22end_year%22%3Bs%3A4%3A%22none%22%3Bs%3A7%3A%22end_mon%22%3Bs%3A4%3A%22none%22%3Bs%3A9%3A%22kyori_min%22%3Bs%3A0%3A%22%22%3Bs%3A9%3A%22kyori_max%22%3Bs%3A0%3A%22%22%3Bs%3A4%3A%22sort%22%3Bs%3A4%3A%22date%22%3Bs%3A4%3A%22list%22%3Bs%3A3%3A%22100%22%3Bs%3A9%3A%22style_dir%22%3Bs%3A17%3A%22style%2Fnetkeiba.ja%22%3Bs%3A13%3A%22template_file%22%3Bs%3A14%3A%22race_list.html%22%3Bs%3A9%3A%22style_url%22%3Bs%3A18%3A%22%2Fstyle%2Fnetkeiba.ja%22%3Bs%3A6%3A%22search%22%3Bs%3A42%3A%22%B6%A5%C1%F6%BC%EF%CA%CC%5B%BC%C7%A1%A2%A5%C0%A1%BC%A5%C8%5D%A1%A2%B4%FC%B4%D6%5B%CC%B5%BB%D8%C4%EA%A1%C1%CC%B5%BB%D8%C4%EA%5D%22%3B%7D\",\n",
    "    \"page\":2\n",
    "}"
   ]
  },
  {
   "cell_type": "code",
   "execution_count": 2,
   "metadata": {},
   "outputs": [
    {
     "name": "stdout",
     "output_type": "stream",
     "text": [
      "http://example.com/?key1=value1&key2=value2\n"
     ]
    }
   ],
   "source": [
    "url = \"http://example.com\"\n",
    "params = {\"key1\":\"value1\",\"key2\":\"value2\"}\n",
    "r = requests.get(url, params)\n",
    "print(r.url)"
   ]
  },
  {
   "cell_type": "code",
   "execution_count": 3,
   "metadata": {},
   "outputs": [
    {
     "data": {
      "text/plain": [
       "'http://example.com/?foo=bar&bar=hoge&page=2'"
      ]
     },
     "execution_count": 3,
     "metadata": {},
     "output_type": "execute_result"
    }
   ],
   "source": [
    "import requests\n",
    "url = \"http://example.com\"\n",
    "params = {\"foo\":\"bar\", \"bar\":\"hoge\", \"page\": 2}\n",
    "r = requests.get(url, params=params)\n",
    "r.url"
   ]
  },
  {
   "cell_type": "code",
   "execution_count": 9,
   "metadata": {},
   "outputs": [
    {
     "data": {
      "text/plain": [
       "'https://db.netkeiba.com/?pid=race_list&sort_key=date&sort_type=desc&serial=a%253A15%253A%257Bs%253A3%253A%2522pid%2522%253Bs%253A9%253A%2522race_list%2522%253Bs%253A4%253A%2522word%2522%253Bs%253A0%253A%2522%2522%253Bs%253A5%253A%2522track%2522%253Ba%253A2%253A%257Bi%253A0%253Bs%253A1%253A%25221%2522%253Bi%253A1%253Bs%253A1%253A%25222%2522%253B%257Ds%253A10%253A%2522start_year%2522%253Bs%253A4%253A%2522none%2522%253Bs%253A9%253A%2522start_mon%2522%253Bs%253A4%253A%2522none%2522%253Bs%253A8%253A%2522end_year%2522%253Bs%253A4%253A%2522none%2522%253Bs%253A7%253A%2522end_mon%2522%253Bs%253A4%253A%2522none%2522%253Bs%253A9%253A%2522kyori_min%2522%253Bs%253A0%253A%2522%2522%253Bs%253A9%253A%2522kyori_max%2522%253Bs%253A0%253A%2522%2522%253Bs%253A4%253A%2522sort%2522%253Bs%253A4%253A%2522date%2522%253Bs%253A4%253A%2522list%2522%253Bs%253A3%253A%2522100%2522%253Bs%253A9%253A%2522style_dir%2522%253Bs%253A17%253A%2522style%252Fnetkeiba.ja%2522%253Bs%253A13%253A%2522template_file%2522%253Bs%253A14%253A%2522race_list.html%2522%253Bs%253A9%253A%2522style_url%2522%253Bs%253A18%253A%2522%252Fstyle%252Fnetkeiba.ja%2522%253Bs%253A6%253A%2522search%2522%253Bs%253A42%253A%2522%25B6%25A5%25C1%25F6%25BC%25EF%25CA%25CC%255B%25BC%25C7%25A1%25A2%25A5%25C0%25A1%25BC%25A5%25C8%255D%25A1%25A2%25B4%25FC%25B4%25D6%255B%25CC%25B5%25BB%25D8%25C4%25EA%25A1%25C1%25CC%25B5%25BB%25D8%25C4%25EA%255D%2522%253B%257D&page=2'"
      ]
     },
     "execution_count": 9,
     "metadata": {},
     "output_type": "execute_result"
    }
   ],
   "source": [
    "'%s?%s' %(NETKEIBA_BASE_URL,urlencode(RACE_LISTING_PAGE_POST_INPUT_DIC))"
   ]
  },
  {
   "cell_type": "code",
   "execution_count": 6,
   "metadata": {},
   "outputs": [
    {
     "name": "stdout",
     "output_type": "stream",
     "text": [
      "https://db.netkeiba.com/?pid=race_list&sort_key=date&sort_type=desc&serial=a%253A15%253A%257Bs%253A3%253A%2522pid%2522%253Bs%253A9%253A%2522race_list%2522%253Bs%253A4%253A%2522word%2522%253Bs%253A0%253A%2522%2522%253Bs%253A5%253A%2522track%2522%253Ba%253A2%253A%257Bi%253A0%253Bs%253A1%253A%25221%2522%253Bi%253A1%253Bs%253A1%253A%25222%2522%253B%257Ds%253A10%253A%2522start_year%2522%253Bs%253A4%253A%2522none%2522%253Bs%253A9%253A%2522start_mon%2522%253Bs%253A4%253A%2522none%2522%253Bs%253A8%253A%2522end_year%2522%253Bs%253A4%253A%2522none%2522%253Bs%253A7%253A%2522end_mon%2522%253Bs%253A4%253A%2522none%2522%253Bs%253A9%253A%2522kyori_min%2522%253Bs%253A0%253A%2522%2522%253Bs%253A9%253A%2522kyori_max%2522%253Bs%253A0%253A%2522%2522%253Bs%253A4%253A%2522sort%2522%253Bs%253A4%253A%2522date%2522%253Bs%253A4%253A%2522list%2522%253Bs%253A3%253A%2522100%2522%253Bs%253A9%253A%2522style_dir%2522%253Bs%253A17%253A%2522style%252Fnetkeiba.ja%2522%253Bs%253A13%253A%2522template_file%2522%253Bs%253A14%253A%2522race_list.html%2522%253Bs%253A9%253A%2522style_url%2522%253Bs%253A18%253A%2522%252Fstyle%252Fnetkeiba.ja%2522%253Bs%253A6%253A%2522search%2522%253Bs%253A42%253A%2522%25B6%25A5%25C1%25F6%25BC%25EF%25CA%25CC%255B%25BC%25C7%25A1%25A2%25A5%25C0%25A1%25BC%25A5%25C8%255D%25A1%25A2%25B4%25FC%25B4%25D6%255B%25CC%25B5%25BB%25D8%25C4%25EA%25A1%25C1%25CC%25B5%25BB%25D8%25C4%25EA%255D%2522%253B%257D&page=2\n"
     ]
    }
   ],
   "source": [
    "from urllib.parse import urlencode\n",
    "\n",
    "\n",
    "url = '%s?%s' % (NETKEIBA_BASE_URL, urlencode(RACE_LISTING_PAGE_POST_INPUT_DIC))\n",
    "print(url)  #=> http://example.com/?key1=100&key2=200"
   ]
  },
  {
   "cell_type": "code",
   "execution_count": 4,
   "metadata": {},
   "outputs": [],
   "source": [
    "NETKEIBA_BASE_URL = \"https://db.netkeiba.com/\""
   ]
  },
  {
   "cell_type": "code",
   "execution_count": 56,
   "metadata": {},
   "outputs": [],
   "source": [
    "url = NETKEIBA_BASE_URL + \"?\"\n",
    "for i in RACE_LISTING_PAGE_POST_INPUT_DIC:\n",
    "    url += str(i) + \"=\" + str(RACE_LISTING_PAGE_POST_INPUT_DIC[i])+r\"&\""
   ]
  },
  {
   "cell_type": "code",
   "execution_count": 57,
   "metadata": {},
   "outputs": [],
   "source": [
    "r = requests.get(NETKEIBA_BASE_URL, params=RACE_LISTING_PAGE_POST_INPUT_DIC)"
   ]
  },
  {
   "cell_type": "code",
   "execution_count": 58,
   "metadata": {},
   "outputs": [
    {
     "data": {
      "text/plain": [
       "'https://db.netkeiba.com/?pid=race_list&sort_key=date&sort_type=desc&page=2'"
      ]
     },
     "execution_count": 58,
     "metadata": {},
     "output_type": "execute_result"
    }
   ],
   "source": [
    "html.unescape(r.url)"
   ]
  },
  {
   "cell_type": "code",
   "execution_count": 50,
   "metadata": {},
   "outputs": [],
   "source": [
    "soup = BeautifulSoup(r.text, \"html.parser\")"
   ]
  },
  {
   "cell_type": "code",
   "execution_count": 51,
   "metadata": {},
   "outputs": [
    {
     "data": {
      "text/plain": [
       "<!DOCTYPE html PUBLIC \"-//W3C//DTD XHTML 1.0 Transitional//EN\" \"http://www.w3.org/TR/xhtml1/DTD/xhtml1-transitional.dtd\">\n",
       "\n",
       "<html id=\"html\" lang=\"ja\" xml:lang=\"ja\" xmlns=\"http://www.w3.org/1999/xhtml\">\n",
       "<head>\n",
       "<title>¤Î¥ì¡¼¥¹¸¡º÷·ë²Ì¡Ã¶¥ÇÏ¥Ç¡¼¥¿¥Ù¡¼¥¹ - netkeiba.com</title>\n",
       "<meta content=\"IE=edge,chrome=1\" http-equiv=\"X-UA-Compatible\"/>\n",
       "<meta content=\"ja\" http-equiv=\"content-language\">\n",
       "<meta content=\"text/html; charset=utf-8\" http-equiv=\"content-type\"/>\n",
       "<meta content=\"text/javascript\" http-equiv=\"content-script-type\"/>\n",
       "<meta content=\"text/css\" http-equiv=\"content-style-type\"/>\n",
       "<meta content=\"¶¥ÇÏ¥Ç¡¼¥¿¥Ù¡¼¥¹¤Ç¤¹¡£¶¥ÁöÇÏ¡¢µ³¼ê¡¢¥ì¡¼¥¹¡¢Ä´¶µ»Õ¡¢ÇÏ¼ç¡£\" name=\"description\"/>\n",
       "<meta content=\"¶¥ÇÏ¾ðÊó,¶¥ÁöÇÏ,µ³¼ê,¥ì¡¼¥¹,Ä´¶µ»Õ,¸¡º÷,¥Ç¡¼¥¿¥Ù¡¼¥¹,JRA,netkeiba.com\" name=\"keywords\"/>\n",
       "<link href=\"https://cdn.netkeiba.com/img.db/common/css/reset.css?20160421\" media=\"all\" rel=\"stylesheet\" type=\"text/css\"/>\n",
       "<link href=\"https://cdn.netkeiba.com/img.db/common/css/common.css?20180531\" media=\"all\" rel=\"stylesheet\" type=\"text/css\"/>\n",
       "<link href=\"https://cdn.netkeiba.com/img.db/common/css/db_detail.css?20130807\" media=\"all\" rel=\"stylesheet\" type=\"text/css\"/>\n",
       "<link href=\"https://cdn.netkeiba.com/img.db/common/css/horse_detail.css?20130326\" media=\"all\" rel=\"stylesheet\" type=\"text/css\"/>\n",
       "<link href=\"https://cdn.netkeiba.com/img.db/common/css/win.css\" media=\"all\" rel=\"stylesheet\" type=\"text/css\"/>\n",
       "<link href=\"https://cdn.netkeiba.com/img.db/common/css/db_top.css?20111021\" media=\"all\" rel=\"stylesheet\" type=\"text/css\"/>\n",
       "<link href=\"https://cdn.netkeiba.com/img.db/common/css/prettyPhoto.css\" rel=\"stylesheet\" type=\"text/css\"/>\n",
       "<link href=\"https://cdn.netkeiba.com/img.db/common/css/jquery.fancybox-1.3.4.css\" rel=\"stylesheet\" type=\"text/css\"/>\n",
       "<link href=\"https://cdn.netkeiba.com/img.db/common/css/db_classic_nk01.css?201911201\" rel=\"stylesheet\" type=\"text/css\"/>\n",
       "<script language=\"javascript\">\n",
       "<!--\n",
       "b = navigator.userAgent.toUpperCase();\n",
       "if(b.indexOf(\"MAC\") >= 0)\n",
       "{\n",
       "cssFile = \"mac.css\";\n",
       "}\n",
       "else\n",
       "{\n",
       "cssFile = \"win.css\";\n",
       "}\n",
       "document.write(\"<link rel='stylesheet' type='text/css' href='https://cdn.netkeiba.com/img.db/common/css/\" + cssFile + \"'>\");\n",
       "// -->\n",
       "</script>\n",
       "<script src=\"https://cdn.netkeiba.com/img.db/common/js/jquery-1.8.2.min.js?20160421\" type=\"text/javascript\"></script>\n",
       "<script src=\"https://cdn.netkeiba.com/img.db/common/js/jquery.cookie.js?20160421\" type=\"text/javascript\"></script>\n",
       "<script src=\"https://cdn.netkeiba.com/img.db/common/js/fontsize.js?20160421\" type=\"text/javascript\"></script>\n",
       "<script src=\"https://cdn.netkeiba.com/img.db/common/js/jquery.prettyPhoto.js?20160421\" type=\"text/javascript\"></script>\n",
       "<script src=\"https://cdn.netkeiba.com/img.db/common/js/jquery.fieldtag.js?20160421\" type=\"text/javascript\"></script>\n",
       "<script src=\"https://cdn.netkeiba.com/img.db/common/js/table_hover.js?20160421\" type=\"text/javascript\"></script>\n",
       "<script src=\"https://cdn.netkeiba.com/img.db/common/js/jquery.fancybox-1.3.4.pack.js?20160421\" type=\"text/javascript\"></script>\n",
       "<script src=\"https://cdn.netkeiba.com/img.db/common/js/jquery.easing-1.3.pack.js?20160421\" type=\"text/javascript\"></script>\n",
       "<script src=\"https://cdn.netkeiba.com/img.db/common/js/jquery.carouFredSel-6.2.0-packed.js?190416\" type=\"text/javascript\"></script>\n",
       "<script src=\"https://cdn.netkeiba.com/img.db/common/js/jquery.touchSwipe.min.js?20160421\" type=\"text/javascript\"></script>\n",
       "<link href=\"https://cdn.netkeiba.com/img.db/common/css/ajaxtabs.css?20160421\" rel=\"stylesheet\" type=\"text/css\"/>\n",
       "<script src=\"https://cdn.netkeiba.com/img.db/common/js/ajaxtabs.js?20160421\" type=\"text/javascript\">\n",
       "/***********************************************\n",
       "* Ajax Tabs Content script v2.2- c Dynamic Drive DHTML code library (www.dynamicdrive.com)\n",
       "* This notice MUST stay intact for legal use\n",
       "* Visit Dynamic Drive at http://www.dynamicdrive.com/ for full source code\n",
       "***********************************************/\n",
       "</script>\n",
       "<script src=\"https://cdn.netkeiba.com/img.db/common/js/get_ad_request.js\" type=\"text/javascript\"></script>\n",
       "<script src=\"/__utm.js\" type=\"text/javascript\"></script>\n",
       "<script type=\"text/javascript\">\n",
       "<!--\n",
       "var _user_action_api_url    = 'https://cdn.netkeiba.com/img.user';\n",
       "var _newsapi_action_api_url = 'https://cdn.netkeiba.com/img.newsapi/';\n",
       "var _social_action_api_url  = 'https://db.netkeiba.com/v1.1/';\n",
       "var _bbs_action_api_url     = 'https://bbs.netkeiba.com/';\n",
       "// -->\n",
       "</script>\n",
       "<script src=\"https://cdn.netkeiba.com/img.user/common/js/user.action.js?2016042101\" type=\"text/javascript\"></script>\n",
       "<script src=\"https://cdn.netkeiba.com/img.newsapi//common/js/newsapi.action.js?2016042101\" type=\"text/javascript\"></script>\n",
       "<script src=\"https://db.netkeiba.com/v1.1//common/js/social.action.js\" type=\"text/javascript\"></script>\n",
       "<script src=\"https://cdn.netkeiba.com/img.bbs/common/js/bbs.action.js?2018053101\" type=\"text/javascript\"></script>\n",
       "<script src=\"https://cdn.netkeiba.com/img.regist.sp//common/js/monthly_goods_link.js?2017080201\" type=\"text/javascript\"></script>\n",
       "<!-- ¥¢¥Î¥Æ¡¼¥·¥ç¥ó -->\n",
       "<link href=\"https://db.netkeiba.com/?pid=race_list&amp;word=\" rel=\"canonical\"/>\n",
       "<link href=\"https://db.sp.netkeiba.com/?pid=race_list&amp;word=\" media=\"only screen and (max-width: 640px)\" rel=\"alternate\"/>\n",
       "<link href=\"__RSS_NETKEIBA__?pid=rss_netkeiba&amp;site=netkeiba\" rel=\"alternate\" type=\"application/rss+xml\"/>\n",
       "</meta></head>\n",
       "<body class=\"db\" id=\"horse_detail\">\n",
       "<noscript>\n",
       "¤ªµÒÍÍ¤Î¥Ö¥é¥¦¥¶¤Ï¥¸¥ã¥Ð¥¹¥¯¥ê¥×¥È¡ÊJavaScript¡Ë¤ËÂÐ±þ¤·¤Æ¤¤¤Ê¤¤¤«Ìµ¸ú¤Ë¤Ê¤Ã¤Æ¤¤¤Þ¤¹¡£\n",
       "</noscript>\n",
       "<div id=\"page\">\n",
       "<link href=\"https://cdn.netkeiba.com/img.www/style/netkeiba.ja/css/common_header.css?20201005\" rel=\"stylesheet\" type=\"text/css\"/>\n",
       "<p class=\"sp_nk_btn disp_none\"><a href=\"http://www.netkeiba.com/?pid=go_sp\" title=\"¥¹¥Þ¡¼¥È¥Õ¥©¥óÈÇ¤Ø\"><img alt=\"¥¹¥Þ¡¼¥È¥Õ¥©¥óÈÇ¤Ø\" class=\"imgover\" src=\"https://cdn.netkeiba.com/img.www/style/netkeiba.ja/image/sp_nk_link_02.png\"/></a></p>\n",
       "<header class=\"Header_Area fc\">\n",
       "<div class=\"Header_Inner fc\">\n",
       "<h1>\n",
       "<a href=\"https://www.netkeiba.com/?rf=logo\" title=\"netkeiba.com\">\n",
       "<img alt=\"netkeiba.com\" src=\"https://cdn.netkeiba.com/img.www/style/netkeiba.ja/image/common/netkeiba_logo01.png\"/>\n",
       "</a>\n",
       "</h1>\n",
       "<div class=\"DB_Search_Input\">\n",
       "<form action=\"https://www.netkeiba.com/\" class=\"Search_Box\" method=\"POST\">\n",
       "<input name=\"pid\" type=\"hidden\" value=\"search\"/>\n",
       "<input name=\"type\" type=\"hidden\" value=\"db\"/>\n",
       "<div class=\"InputTxt_Form_Box\">\n",
       "<input class=\"Txt_Form\" id=\"keywords\" name=\"word\" placeholder=\"ÇÏÌ¾¤Ç¸¡º÷\" type=\"text\" value=\"\"/>\n",
       "</div><!-- / .InputTxt_Form -->\n",
       "<div class=\"Submit_Btn_Box\">\n",
       "<input class=\"Submit_Btn\" name=\"submit\" type=\"submit\" value=\"¸¡ º÷\"/>\n",
       "</div><!-- / .Submit_Btn_Box -->\n",
       "</form>\n",
       "</div><!-- / .DB_Search_Input -->\n",
       "<ul class=\"UserMyMenu fc\">\n",
       "<li>\n",
       "<a href=\"https://www.netkeiba.com/?pid=start_mypage&amp;rf=navi\">\n",
       "<span>¥Þ¥¤¥Ú¡¼¥¸¤Î¤´¾Ò²ð</span>\n",
       "</a>\n",
       "</li>\n",
       "<li>\n",
       "<a class=\"Icon_Header Icon_MyfavHorse\" href=\"https://race.netkeiba.com/bookmark/bookmark.html?rf=navi\">\n",
       "<span>¤ªµ¤¤ËÆþ¤êÇÏ</span>\n",
       "</a>\n",
       "</li>\n",
       "<li>\n",
       "<a class=\"Icon_Header Icon_Login\" href=\"https://regist.netkeiba.com/account/?pid=login\">\n",
       "<span>¥í¥°¥¤¥ó/²ñ°÷ÅÐÏ¿</span>\n",
       "</a>\n",
       "</li>\n",
       "<li class=\"disp_none header_stage_area no_login_show\">\n",
       "<a href=\"https://regist.netkeiba.com/?pid=stage_login&amp;action=login&amp;return_url=https://regist.netkeiba.com/\">\n",
       "<span>(s)¥í¥°¥¤¥ó</span>\n",
       "</a>\n",
       "</li>\n",
       "<li class=\"disp_none header_stage_area no_login_show\">\n",
       "<a href=\"https://regist.netkeiba.com/?pid=user_add_form&amp;payment=nk_user&amp;goods_cd=310409&amp;opt=init\">\n",
       "<span>(s)ÌµÎÁ²ñ°÷ÅÐÏ¿</span>\n",
       "</a>\n",
       "<li class=\"disp_none header_stage_area login_show\">\n",
       "<a href=\"https://regist.netkeiba.com/?pid=stage_login&amp;action=logout&amp;return_url=https://regist.netkeiba.com/\">\n",
       "<span>(s)¥í¥°¥¢¥¦¥È</span>\n",
       "</a>\n",
       "</li>\n",
       "</li>\n",
       "</ul>\n",
       "</div><!-- /.Header_Inner -->\n",
       "</header>\n",
       "<!--<div class=\"MenuNew01\">\n",
       "<span class=\"MenuNewIcon\">NEW</span>\n",
       "</div>--><!-- /.MenuNew01 -->\n",
       "<nav class=\"ContentNavi01\">\n",
       "<ul class=\"fc\">\n",
       "<li class=\"Top\">\n",
       "<a href=\"https://www.netkeiba.com/?rf=navi\" title=\"¥È¥Ã¥×\">¥È¥Ã¥×</a>\n",
       "</li>\n",
       "<li class=\"News\">\n",
       "<a href=\"https://news.netkeiba.com/?rf=navi\" title=\"¥Ë¥å¡¼¥¹\">¥Ë¥å¡¼¥¹</a>\n",
       "</li>\n",
       "<li class=\"Race\">\n",
       "<a href=\"https://race.netkeiba.com/top/?rf=navi\" title=\"¥ì¡¼¥¹\">¥ì¡¼¥¹</a>\n",
       "</li>\n",
       "<li class=\"Yoso\">\n",
       "<a href=\"https://yoso.netkeiba.com/?access=init&amp;rf=navi\" title=\"¥¦¥Þ¤¤ÇÏ·ô\">¥¦¥Þ¤¤ÇÏ·ô</a>\n",
       "</li>\n",
       "<li class=\"Column\">\n",
       "<a href=\"https://news.netkeiba.com/?pid=column_top&amp;rf=navi\" title=\"¥³¥é¥à\">¥³¥é¥à</a>\n",
       "</li>\n",
       "<li class=\"Tv\">\n",
       "<a href=\"https://tv.netkeiba.com/?rf=navi\" title=\"netkeibaTV\">netkeibaTV</a>\n",
       "</li>\n",
       "<li class=\"Local\">\n",
       "<a href=\"https://nar.netkeiba.com/top/?rf=navi\" title=\"ÃÏÊý¶¥ÇÏ\">ÃÏÊý¶¥ÇÏ</a>\n",
       "</li>\n",
       "<li class=\"Db\">\n",
       "<a href=\"https://db.netkeiba.com/?rf=navi\" title=\"¥Ç¡¼¥¿¥Ù¡¼¥¹\">¥Ç¡¼¥¿¥Ù¡¼¥¹</a>\n",
       "</li>\n",
       "<li class=\"YosoCS\">\n",
       "<a href=\"https://orepro.netkeiba.com/?rf=navi\" title=\"²¶¥×¥í\">²¶¥×¥í</a>\n",
       "</li>\n",
       "<li class=\"Owner\">\n",
       "<a href=\"https://owner.netkeiba.com/?rf=navi\" title=\"°ì¸ýÇÏ¼ç\">°ì¸ýÇÏ¼ç</a>\n",
       "</li>\n",
       "<li class=\"Pog\">\n",
       "<a href=\"https://pog.netkeiba.com/?rf=navi\" title=\"POG\">POG</a>\n",
       "</li>\n",
       "<li class=\"Community\">\n",
       "<a href=\"https://bbs.pc.keiba.findfriends.jp/?rf=navi\" title=\"¶¥ÇÏ¹­¾ì\">¶¥ÇÏ¹­¾ì</a>\n",
       "</li>\n",
       "<li class=\"Matome\">\n",
       "<a href=\"https://dir.netkeiba.com/keibamatome/index.html?rf=navi\" title=\"¤Þ¤È¤á\">¤Þ¤È¤á</a>\n",
       "</li>\n",
       "</ul>\n",
       "</nav><!-- /.ContentNavi01 -->\n",
       "<!-- ¹­¹ðÇÛ¿®ÍÑ -->\n",
       "<script async=\"async\" src=\"https://www.googletagservices.com/tag/js/gpt.js\"></script>\n",
       "<script>\n",
       "var googletag = googletag || {};\n",
       "googletag.cmd = googletag.cmd || [];\n",
       "</script>\n",
       "<!-- /¹­¹ðÇÛ¿®ÍÑ -->\n",
       "<script type=\"text/javascript\">\n",
       "$(document).ready(function() {\n",
       "show_user();\n",
       "});\n",
       "function show_user(){\n",
       "var is_stage = '';\n",
       "var is_user  = '';\n",
       "var is_alert = '';\n",
       "var is_sp    = '';\n",
       "var nickname = '';\n",
       "var user_img = '';\n",
       "if(is_sp) {\n",
       "$('.sp_nk_btn').show();\n",
       "}\n",
       "if(! is_stage) {\n",
       "$('.header_stage_area').remove();\n",
       "}\n",
       "if(is_user){\n",
       "//¥í¥°¥¤¥óÃæ\n",
       "$('.login_show').show();\n",
       "if(is_alert) {\n",
       "$('.Alert_New').show();\n",
       "}\n",
       "} else {\n",
       "//Ì¤¥í¥°¥¤¥ó\n",
       "$('.no_login_show').show();\n",
       "$('.login_show').remove();\n",
       "}\n",
       "}\n",
       "</script>\n",
       "<div class=\"genre_menu fc\">\n",
       "<ul>\n",
       "<li><a href=\"/\" title=\"¶¥ÇÏ¥Ç¡¼¥¿TOP\">¶¥ÇÏ¥Ç¡¼¥¿TOP</a></li>\n",
       "<li><a href=\"/?pid=horse_top\" title=\"¶¥ÁöÇÏ\">¶¥ÁöÇÏ</a></li>\n",
       "<li><a href=\"/?pid=jockey_top\" title=\"µ³¼ê\">µ³¼ê</a></li>\n",
       "<li><a href=\"/?pid=trainer_top\" title=\"Ä´¶µ»Õ\">Ä´¶µ»Õ</a></li>\n",
       "<li><a href=\"/?pid=owner_top\" title=\"ÇÏ¼ç\">ÇÏ¼ç</a></li>\n",
       "<li><a href=\"/?pid=breeder_top\" title=\"À¸»º¼Ô\">À¸»º¼Ô</a></li>\n",
       "<li class=\"active\"><a href=\"/?pid=race_top\" title=\"¥ì¡¼¥¹\">¥ì¡¼¥¹</a></li>\n",
       "</ul>\n",
       "</div><!-- /.genre_menu -->\n",
       "<div id=\"contents_liquid\">\n",
       "<div class=\"search_result_box\">\n",
       "<div class=\"cate_bar\">\n",
       "<h2>¤Ç¤Ï¸«¤Ä¤«¤ê¤Þ¤»¤ó¤Ç¤·¤¿¡£</h2>\n",
       "</div>\n",
       "<br/>\n",
       "</div><!-- //class=\"search_result_box\" -->\n",
       "</div><!-- //id=\"contents_liquid\" -->\n",
       "<div class=\"fc\" id=\"contents\">\n",
       "<div id=\"main\">\n",
       "<!-- overture -->\n",
       "<div style=\"margin-top:10px;\">\n",
       "</div>\n",
       "<!-- end overture -->\n",
       "<div class=\"main_ad\">\n",
       "<script language=\"JavaScript\" type=\"text/javascript\">noCacheParam=Math.random()*10000000000;document.write('<scr'+'ipt type=\"text/javascript\" src=\"https://netdreamersad.durasite.net/A-affiliate2/mobile?site=23&keyword=adnet_nk_db_pic&isJS=true&encoding=EUC-JP&ord=' + noCacheParam + '\"></scr'+'ipt>');</script>\n",
       "</div><!-- /.banner-2 -->\n",
       "</div><!-- / #main -->\n",
       "<div id=\"side\">\n",
       "<div class=\"side_ad\">\n",
       "<script language=\"JavaScript\" type=\"text/javascript\">noCacheParam=Math.random()*10000000000;document.write('<scr'+'ipt type=\"text/javascript\" src=\"https://netdreamersad.durasite.net/A-affiliate2/mobile?site=23&keyword=new_db_rectangle&isJS=true&encoding=EUC-JP&ord=' + noCacheParam + '\"></scr'+'ipt>');</script>\n",
       "</div>\n",
       "<div id=\"side_retrieval\">\n",
       "<div class=\"side_infobox_title fc\">\n",
       "<h2><img alt=\"ÊØÍø¸¡º÷µ¡Ç½\" src=\"https://cdn.netkeiba.com/img.db//style/netkeiba.ja/image/db_top_side_h_01.png\"/></h2>\n",
       "</div>\n",
       "<div class=\"side_retrieval_box\">\n",
       "<ul>\n",
       "<li><a href=\"/?pid=horse_search_detail\" title=\"¶¥ÁöÇÏ¾ÜºÙ¸¡º÷\">¶¥ÁöÇÏ¾ÜºÙ¸¡º÷</a></li>\n",
       "<li><a href=\"/?pid=jockey_search_detail\" title=\"µ³¼ê¾ÜºÙ¸¡º÷\">µ³¼ê¾ÜºÙ¸¡º÷</a></li>\n",
       "<li><a href=\"/?pid=trainer_search_detail\" title=\"Ä´¶µ»Õ¾ÜºÙ¸¡º÷\">Ä´¶µ»Õ¾ÜºÙ¸¡º÷</a></li>\n",
       "<li><a href=\"/?pid=race_search_detail\" title=\"¥ì¡¼¥¹¾ÜºÙ¸¡º÷\">¥ì¡¼¥¹¾ÜºÙ¸¡º÷</a></li>\n",
       "<li><a href=\"/?pid=owner_search_detail\" title=\"ÇÏ¼ç¾ÜºÙ¸¡º÷\">ÇÏ¼ç¾ÜºÙ¸¡º÷</a></li>\n",
       "<li><a href=\"/?pid=breeder_search_detail\" title=\"À¸»º¼Ô¾ÜºÙ¸¡º÷\">À¸»º¼Ô¾ÜºÙ¸¡º÷</a></li>\n",
       "</ul>\n",
       "</div>\n",
       "</div><!-- .side_retrieval -->\n",
       "<!-- -->\n",
       "<div class=\"side_ad\">\n",
       "<script language=\"JavaScript\" type=\"text/javascript\">noCacheParam=Math.random()*10000000000;document.write('<scr'+'ipt type=\"text/javascript\" src=\"https://netdreamersad.durasite.net/A-affiliate2/mobile?site=23&keyword=adnet_nk_db_rectangle&isJS=true&encoding=EUC-JP&ord=' + noCacheParam + '\"></scr'+'ipt>');</script>\n",
       "</div>\n",
       "</div><!-- / #side -->\n",
       "</div><!-- //id=\"contents\" -->\n",
       "</div><!-- / #page -->\n",
       "<script language=\"JavaScript\" type=\"text/javascript\">noCacheParam=Math.random()*10000000000;document.write('<scr'+'ipt type=\"text/javascript\" src=\"https://netdreamersad.durasite.net/A-affiliate2/mobile?site=23&keyword=pc_nk_overlay&isJS=true&encoding=EUC-JP&ord=' + noCacheParam + '\"></scr'+'ipt>');</script>\n",
       "</body>\n",
       "</html>"
      ]
     },
     "execution_count": 51,
     "metadata": {},
     "output_type": "execute_result"
    }
   ],
   "source": [
    "soup"
   ]
  },
  {
   "cell_type": "code",
   "execution_count": 29,
   "metadata": {},
   "outputs": [
    {
     "data": {
      "text/plain": [
       "'https://db.netkeiba.com/?pid=race_list&sort_key=date&sort_type=desc&serial=a%3A15%3A%7Bs%3A3%3A%22pid%22%3Bs%3A9%3A%22race_list%22%3Bs%3A4%3A%22word%22%3Bs%3A0%3A%22%22%3Bs%3A5%3A%22track%22%3Ba%3A2%3A%7Bi%3A0%3Bs%3A1%3A%221%22%3Bi%3A1%3Bs%3A1%3A%222%22%3B%7Ds%3A10%3A%22start_year%22%3Bs%3A4%3A%22none%22%3Bs%3A9%3A%22start_mon%22%3Bs%3A4%3A%22none%22%3Bs%3A8%3A%22end_year%22%3Bs%3A4%3A%22none%22%3Bs%3A7%3A%22end_mon%22%3Bs%3A4%3A%22none%22%3Bs%3A9%3A%22kyori_min%22%3Bs%3A0%3A%22%22%3Bs%3A9%3A%22kyori_max%22%3Bs%3A0%3A%22%22%3Bs%3A4%3A%22sort%22%3Bs%3A4%3A%22date%22%3Bs%3A4%3A%22list%22%3Bs%3A3%3A%22100%22%3Bs%3A9%3A%22style_dir%22%3Bs%3A17%3A%22style%2Fnetkeiba.ja%22%3Bs%3A13%3A%22template_file%22%3Bs%3A14%3A%22race_list.html%22%3Bs%3A9%3A%22style_url%22%3Bs%3A18%3A%22%2Fstyle%2Fnetkeiba.ja%22%3Bs%3A6%3A%22search%22%3Bs%3A42%3A%22%B6%A5%C1%F6%BC%EF%CA%CC%5B%BC%C7%A1%A2%A5%C0%A1%BC%A5%C8%5D%A1%A2%B4%FC%B4%D6%5B%CC%B5%BB%D8%C4%EA%A1%C1%CC%B5%BB%D8%C4%EA%5D%22%3B%7D&page=2&'"
      ]
     },
     "execution_count": 29,
     "metadata": {},
     "output_type": "execute_result"
    }
   ],
   "source": [
    "url"
   ]
  },
  {
   "cell_type": "code",
   "execution_count": 30,
   "metadata": {},
   "outputs": [
    {
     "data": {
      "text/plain": [
       "'https://db.netkeiba.com/?pid=race_list&sort_key=date&sort_type=desc&serial=a%3A15%3A%7Bs%3A3%3A%22pid%22%3Bs%3A9%3A%22race_list%22%3Bs%3A4%3A%22word%22%3Bs%3A0%3A%22%22%3Bs%3A5%3A%22track%22%3Ba%3A2%3A%7Bi%3A0%3Bs%3A1%3A%221%22%3Bi%3A1%3Bs%3A1%3A%222%22%3B%7Ds%3A10%3A%22start_year%22%3Bs%3A4%3A%22none%22%3Bs%3A9%3A%22start_mon%22%3Bs%3A4%3A%22none%22%3Bs%3A8%3A%22end_year%22%3Bs%3A4%3A%22none%22%3Bs%3A7%3A%22end_mon%22%3Bs%3A4%3A%22none%22%3Bs%3A9%3A%22kyori_min%22%3Bs%3A0%3A%22%22%3Bs%3A9%3A%22kyori_max%22%3Bs%3A0%3A%22%22%3Bs%3A4%3A%22sort%22%3Bs%3A4%3A%22date%22%3Bs%3A4%3A%22list%22%3Bs%3A3%3A%22100%22%3Bs%3A9%3A%22style_dir%22%3Bs%3A17%3A%22style%2Fnetkeiba.ja%22%3Bs%3A13%3A%22template_file%22%3Bs%3A14%3A%22race_list.html%22%3Bs%3A9%3A%22style_url%22%3Bs%3A18%3A%22%2Fstyle%2Fnetkeiba.ja%22%3Bs%3A6%3A%22search%22%3Bs%3A42%3A%22%B6%A5%C1%F6%BC%EF%CA%CC%5B%BC%C7%A1%A2%A5%C0%A1%BC%A5%C8%5D%A1%A2%B4%FC%B4%D6%5B%CC%B5%BB%D8%C4%EA%A1%C1%CC%B5%BB%D8%C4%EA%5D%22%3B%7D&page=2&'"
      ]
     },
     "execution_count": 30,
     "metadata": {},
     "output_type": "execute_result"
    }
   ],
   "source": [
    "html.unescape(url)"
   ]
  },
  {
   "cell_type": "code",
   "execution_count": 31,
   "metadata": {},
   "outputs": [
    {
     "data": {
      "text/plain": [
       "str"
      ]
     },
     "execution_count": 31,
     "metadata": {},
     "output_type": "execute_result"
    }
   ],
   "source": [
    "type(url)"
   ]
  },
  {
   "cell_type": "code",
   "execution_count": 25,
   "metadata": {},
   "outputs": [
    {
     "data": {
      "text/plain": [
       "'ああああ&'"
      ]
     },
     "execution_count": 25,
     "metadata": {},
     "output_type": "execute_result"
    }
   ],
   "source": [
    "html.unescape(\"ああああ&amp;\")"
   ]
  },
  {
   "cell_type": "code",
   "execution_count": null,
   "metadata": {},
   "outputs": [],
   "source": []
  }
 ],
 "metadata": {
  "kernelspec": {
   "display_name": "Python 3",
   "language": "python",
   "name": "python3"
  },
  "language_info": {
   "codemirror_mode": {
    "name": "ipython",
    "version": 3
   },
   "file_extension": ".py",
   "mimetype": "text/x-python",
   "name": "python",
   "nbconvert_exporter": "python",
   "pygments_lexer": "ipython3",
   "version": "3.8.1"
  }
 },
 "nbformat": 4,
 "nbformat_minor": 4
}
