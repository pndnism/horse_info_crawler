{
 "cells": [
  {
   "cell_type": "code",
   "execution_count": 36,
   "metadata": {},
   "outputs": [],
   "source": [
    "import requests\n",
    "from bs4 import BeautifulSoup\n",
    "import re"
   ]
  },
  {
   "cell_type": "code",
   "execution_count": 58,
   "metadata": {},
   "outputs": [
    {
     "ename": "SyntaxError",
     "evalue": "invalid syntax (<ipython-input-58-640c3806017e>, line 4)",
     "output_type": "error",
     "traceback": [
      "\u001b[0;36m  File \u001b[0;32m\"<ipython-input-58-640c3806017e>\"\u001b[0;36m, line \u001b[0;32m4\u001b[0m\n\u001b[0;31m    print(soup. (re.compile(\"race\")))\u001b[0m\n\u001b[0m                ^\u001b[0m\n\u001b[0;31mSyntaxError\u001b[0m\u001b[0;31m:\u001b[0m invalid syntax\n"
     ]
    }
   ],
   "source": [
    "with open(\"../tests/race/parser/data/test_parse_normal_last_lising_page.html\") as f:\n",
    "    response_html = f.read()\n",
    "    soup = BeautifulSoup(response_html, \"html.parser\")\n",
    "    print(soup. (re.compile(\"race\")))"
   ]
  },
  {
   "cell_type": "code",
   "execution_count": 59,
   "metadata": {},
   "outputs": [],
   "source": [
    "file_ = \"../tests/race/parser/data/test_parse_normal_last_lising_page.html\""
   ]
  },
  {
   "cell_type": "code",
   "execution_count": 60,
   "metadata": {},
   "outputs": [],
   "source": [
    "response_html = open(file_)"
   ]
  },
  {
   "cell_type": "code",
   "execution_count": 61,
   "metadata": {},
   "outputs": [],
   "source": [
    "soup = BeautifulSoup(response_html, \"html.parser\")"
   ]
  },
  {
   "cell_type": "code",
   "execution_count": 65,
   "metadata": {},
   "outputs": [
    {
     "data": {
      "text/plain": [
       "['/race/1799A6050905/',\n",
       " '/race/1798A6052405/',\n",
       " '/race/1797A6060105/',\n",
       " '/race/1796A6051205/',\n",
       " '/race/1795A6052105/',\n",
       " '/race/1794A6060505/',\n",
       " '/race/1793A6051605/',\n",
       " '/race/1792A6052405/',\n",
       " '/race/1791A6060905/',\n",
       " '/race/1790A6052005/',\n",
       " '/race/1789A6052805/',\n",
       " '/race/1788A6050805/',\n",
       " '/race/1787A6052405/',\n",
       " '/race/1786A6053105/',\n",
       " '/race/1785A6050505/',\n",
       " '/race/1784A6052005/',\n",
       " '/race/1783A6052905/',\n",
       " '/race/1782A6050905/',\n",
       " '/race/1781A6052405/',\n",
       " '/race/1780A6050405/']"
      ]
     },
     "execution_count": 65,
     "metadata": {},
     "output_type": "execute_result"
    }
   ],
   "source": [
    "[i.get(\"href\") for i in soup.find_all(href=re.compile(\"/race/\\d\"))]"
   ]
  },
  {
   "cell_type": "code",
   "execution_count": null,
   "metadata": {},
   "outputs": [],
   "source": []
  }
 ],
 "metadata": {
  "kernelspec": {
   "display_name": "Python 3",
   "language": "python",
   "name": "python3"
  },
  "language_info": {
   "codemirror_mode": {
    "name": "ipython",
    "version": 3
   },
   "file_extension": ".py",
   "mimetype": "text/x-python",
   "name": "python",
   "nbconvert_exporter": "python",
   "pygments_lexer": "ipython3",
   "version": "3.8.1"
  }
 },
 "nbformat": 4,
 "nbformat_minor": 4
}
