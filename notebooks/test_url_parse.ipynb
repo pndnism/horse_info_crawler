{
 "cells": [
  {
   "cell_type": "code",
   "execution_count": 19,
   "metadata": {},
   "outputs": [],
   "source": [
    "from urllib.parse import urlencode\n",
    "import urllib\n",
    "import os"
   ]
  },
  {
   "cell_type": "code",
   "execution_count": 6,
   "metadata": {},
   "outputs": [],
   "source": [
    "RACE_LISTING_PAGE_POST_INPUT_DIC = {\n",
    "    \"sort_key\": \"date\",\n",
    "    \"sort_type\": \"desc\",\n",
    "    \"pid\": \"race_list\",\n",
    "    # serialは定期的に変わる説？？\n",
    "    \"serial\": \"a%3A15%3A%7Bs%3A3%3A%22pid%22%3Bs%3A9%3A%22race_list%22%3Bs%3A4%3A%22word%22%3Bs%3A0%3A%22%22%3Bs%3A5%3A%22track%22%3Ba%3A2%3A%7Bi%3A0%3Bs%3A1%3A%221%22%3Bi%3A1%3Bs%3A1%3A%222%22%3B%7Ds%3A10%3A%22start_year%22%3Bs%3A4%3A%22none%22%3Bs%3A9%3A%22start_mon%22%3Bs%3A4%3A%22none%22%3Bs%3A8%3A%22end_year%22%3Bs%3A4%3A%22none%22%3Bs%3A7%3A%22end_mon%22%3Bs%3A4%3A%22none%22%3Bs%3A9%3A%22kyori_min%22%3Bs%3A0%3A%22%22%3Bs%3A9%3A%22kyori_max%22%3Bs%3A0%3A%22%22%3Bs%3A4%3A%22sort%22%3Bs%3A4%3A%22date%22%3Bs%3A4%3A%22list%22%3Bs%3A2%3A%2220%22%3Bs%3A9%3A%22style_dir%22%3Bs%3A17%3A%22style%2Fnetkeiba.ja%22%3Bs%3A13%3A%22template_file%22%3Bs%3A14%3A%22race_list.html%22%3Bs%3A9%3A%22style_url%22%3Bs%3A18%3A%22%2Fstyle%2Fnetkeiba.ja%22%3Bs%3A6%3A%22search%22%3Bs%3A42%3A%22%B6%A5%C1%F6%BC%EF%CA%CC%5B%BC%C7%A1%A2%A5%C0%A1%BC%A5%C8%5D%A1%A2%B4%FC%B4%D6%5B%CC%B5%BB%D8%C4%EA%A1%C1%CC%B5%BB%D8%C4%EA%5D%22%3B%7D\",\n",
    "    \"page\": 1\n",
    "}\n"
   ]
  },
  {
   "cell_type": "code",
   "execution_count": 7,
   "metadata": {},
   "outputs": [],
   "source": [
    "NETKEIBA_BASE_URL = \"https://db.netkeiba.com/\""
   ]
  },
  {
   "cell_type": "code",
   "execution_count": 16,
   "metadata": {},
   "outputs": [],
   "source": [
    "LISTING_PAGE_START_URLS = '%s?%s' % (\n",
    "        NETKEIBA_BASE_URL, urlencode(RACE_LISTING_PAGE_POST_INPUT_DIC))"
   ]
  },
  {
   "cell_type": "code",
   "execution_count": 17,
   "metadata": {},
   "outputs": [
    {
     "data": {
      "text/plain": [
       "'https://db.netkeiba.com/?sort_key=date&sort_type=desc&pid=race_list&serial=a%253A15%253A%257Bs%253A3%253A%2522pid%2522%253Bs%253A9%253A%2522race_list%2522%253Bs%253A4%253A%2522word%2522%253Bs%253A0%253A%2522%2522%253Bs%253A5%253A%2522track%2522%253Ba%253A2%253A%257Bi%253A0%253Bs%253A1%253A%25221%2522%253Bi%253A1%253Bs%253A1%253A%25222%2522%253B%257Ds%253A10%253A%2522start_year%2522%253Bs%253A4%253A%2522none%2522%253Bs%253A9%253A%2522start_mon%2522%253Bs%253A4%253A%2522none%2522%253Bs%253A8%253A%2522end_year%2522%253Bs%253A4%253A%2522none%2522%253Bs%253A7%253A%2522end_mon%2522%253Bs%253A4%253A%2522none%2522%253Bs%253A9%253A%2522kyori_min%2522%253Bs%253A0%253A%2522%2522%253Bs%253A9%253A%2522kyori_max%2522%253Bs%253A0%253A%2522%2522%253Bs%253A4%253A%2522sort%2522%253Bs%253A4%253A%2522date%2522%253Bs%253A4%253A%2522list%2522%253Bs%253A2%253A%252220%2522%253Bs%253A9%253A%2522style_dir%2522%253Bs%253A17%253A%2522style%252Fnetkeiba.ja%2522%253Bs%253A13%253A%2522template_file%2522%253Bs%253A14%253A%2522race_list.html%2522%253Bs%253A9%253A%2522style_url%2522%253Bs%253A18%253A%2522%252Fstyle%252Fnetkeiba.ja%2522%253Bs%253A6%253A%2522search%2522%253Bs%253A42%253A%2522%25B6%25A5%25C1%25F6%25BC%25EF%25CA%25CC%255B%25BC%25C7%25A1%25A2%25A5%25C0%25A1%25BC%25A5%25C8%255D%25A1%25A2%25B4%25FC%25B4%25D6%255B%25CC%25B5%25BB%25D8%25C4%25EA%25A1%25C1%25CC%25B5%25BB%25D8%25C4%25EA%255D%2522%253B%257D&page=1'"
      ]
     },
     "execution_count": 17,
     "metadata": {},
     "output_type": "execute_result"
    }
   ],
   "source": [
    "LISTING_PAGE_START_URLS"
   ]
  },
  {
   "cell_type": "code",
   "execution_count": 18,
   "metadata": {},
   "outputs": [
    {
     "data": {
      "text/plain": [
       "'https://db.netkeiba.com/?sort_key=date&sort_type=desc&pid=race_list&serial=a%3A15%3A%7Bs%3A3%3A%22pid%22%3Bs%3A9%3A%22race_list%22%3Bs%3A4%3A%22word%22%3Bs%3A0%3A%22%22%3Bs%3A5%3A%22track%22%3Ba%3A2%3A%7Bi%3A0%3Bs%3A1%3A%221%22%3Bi%3A1%3Bs%3A1%3A%222%22%3B%7Ds%3A10%3A%22start_year%22%3Bs%3A4%3A%22none%22%3Bs%3A9%3A%22start_mon%22%3Bs%3A4%3A%22none%22%3Bs%3A8%3A%22end_year%22%3Bs%3A4%3A%22none%22%3Bs%3A7%3A%22end_mon%22%3Bs%3A4%3A%22none%22%3Bs%3A9%3A%22kyori_min%22%3Bs%3A0%3A%22%22%3Bs%3A9%3A%22kyori_max%22%3Bs%3A0%3A%22%22%3Bs%3A4%3A%22sort%22%3Bs%3A4%3A%22date%22%3Bs%3A4%3A%22list%22%3Bs%3A2%3A%2220%22%3Bs%3A9%3A%22style_dir%22%3Bs%3A17%3A%22style%2Fnetkeiba.ja%22%3Bs%3A13%3A%22template_file%22%3Bs%3A14%3A%22race_list.html%22%3Bs%3A9%3A%22style_url%22%3Bs%3A18%3A%22%2Fstyle%2Fnetkeiba.ja%22%3Bs%3A6%3A%22search%22%3Bs%3A42%3A%22%B6%A5%C1%F6%BC%EF%CA%CC%5B%BC%C7%A1%A2%A5%C0%A1%BC%A5%C8%5D%A1%A2%B4%FC%B4%D6%5B%CC%B5%BB%D8%C4%EA%A1%C1%CC%B5%BB%D8%C4%EA%5D%22%3B%7D&page=1'"
      ]
     },
     "execution_count": 18,
     "metadata": {},
     "output_type": "execute_result"
    }
   ],
   "source": [
    "urllib.parse.unquote(LISTING_PAGE_START_URLS)"
   ]
  },
  {
   "cell_type": "code",
   "execution_count": 22,
   "metadata": {},
   "outputs": [],
   "source": [
    "os.makedirs(\"./test2/test2-2/test2-2-1\")"
   ]
  },
  {
   "cell_type": "code",
   "execution_count": null,
   "metadata": {},
   "outputs": [],
   "source": []
  }
 ],
 "metadata": {
  "kernelspec": {
   "display_name": "Python 3",
   "language": "python",
   "name": "python3"
  },
  "language_info": {
   "codemirror_mode": {
    "name": "ipython",
    "version": 3
   },
   "file_extension": ".py",
   "mimetype": "text/x-python",
   "name": "python",
   "nbconvert_exporter": "python",
   "pygments_lexer": "ipython3",
   "version": "3.8.1"
  }
 },
 "nbformat": 4,
 "nbformat_minor": 4
}
