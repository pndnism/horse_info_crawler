{
 "cells": [
  {
   "cell_type": "code",
   "execution_count": 18,
   "metadata": {},
   "outputs": [],
   "source": [
    "import pandas as pd\n",
    "import re"
   ]
  },
  {
   "cell_type": "code",
   "execution_count": 3,
   "metadata": {},
   "outputs": [],
   "source": [
    "race_info_dict = pd.read_pickle(\"../tests/race/normalizer/data/test_race_info_dict.pickle\")"
   ]
  },
  {
   "cell_type": "code",
   "execution_count": 121,
   "metadata": {},
   "outputs": [
    {
     "data": {
      "text/plain": [
       "['1', '2', '3', '4', '5', '6', '7', '8']"
      ]
     },
     "execution_count": 121,
     "metadata": {},
     "output_type": "execute_result"
    }
   ],
   "source": [
    "NORMALIZED_ARRIVAL_ORDERS_LIST = []\n",
    "for i in race_info_dict[\"着順\"]:\n",
    "    NORMALIZED_ARRIVAL_ORDERS_LIST.append(i.text)\n",
    "[i.text for i in race_info_dict[\"着順\"]]"
   ]
  },
  {
   "cell_type": "code",
   "execution_count": 14,
   "metadata": {},
   "outputs": [
    {
     "name": "stdout",
     "output_type": "stream",
     "text": [
      "NORMALIZED_BOX_NUMBERS_LIST : ['3', '2', '4', '6', '5', '8', '7', '1']\n"
     ]
    }
   ],
   "source": [
    "NORMALIZED_BOX_NUMBERS_LIST = []\n",
    "for i in race_info_dict[\"枠番\"]:\n",
    "    NORMALIZED_BOX_NUMBERS_LIST.append(i.text)"
   ]
  },
  {
   "cell_type": "code",
   "execution_count": 15,
   "metadata": {},
   "outputs": [],
   "source": [
    "NORMALIZED_HORSE_NUMBERS_LIST = []\n",
    "for i in race_info_dict[\"馬番\"]:\n",
    "    NORMALIZED_HORSE_NUMBERS_LIST.append(i.text)"
   ]
  },
  {
   "cell_type": "code",
   "execution_count": 27,
   "metadata": {},
   "outputs": [],
   "source": [
    "NORMALIZED_HORSE_NAMES_LIST = []\n",
    "for i in race_info_dict[\"馬名\"]:\n",
    "    name_raw = i.text\n",
    "    name = name_raw.replace(\"\\n\", \"\")\n",
    "    NORMALIZED_HORSE_NAMES_LIST.append(name)"
   ]
  },
  {
   "cell_type": "code",
   "execution_count": 39,
   "metadata": {},
   "outputs": [],
   "source": [
    "NORMALIZED_HORSE_IDS_LIST = []\n",
    "for i in race_info_dict[\"馬名\"]:\n",
    "    id_raw = i.find(\"a\").get(\"href\")\n",
    "    NORMALIZED_HORSE_IDS_LIST.append(re.findall(\"(\\d+)\", id_raw)[0])"
   ]
  },
  {
   "cell_type": "code",
   "execution_count": 43,
   "metadata": {},
   "outputs": [],
   "source": [
    "NORMALIZED_HORSE_SEXES_LIST = []\n",
    "for i in race_info_dict[\"性齢\"]:\n",
    "    NORMALIZED_HORSE_SEXES_LIST.append(re.findall(\"(セ|牝|牡)\",i.text)[0])"
   ]
  },
  {
   "cell_type": "code",
   "execution_count": 47,
   "metadata": {},
   "outputs": [],
   "source": [
    "NORMALIZED_HORSE_AGES_LIST = []\n",
    "for i in race_info_dict[\"性齢\"]:\n",
    "    NORMALIZED_HORSE_AGES_LIST.append(re.findall(\"(\\d+)\",i.text)[0])"
   ]
  },
  {
   "cell_type": "code",
   "execution_count": 49,
   "metadata": {},
   "outputs": [],
   "source": [
    "NORMALIZED_JOCKEY_WEIGHTS_LIST = []\n",
    "for i in race_info_dict[\"斤量\"]:\n",
    "    NORMALIZED_JOCKEY_WEIGHTS_LIST.append(re.findall(\"(\\d+)\",i.text)[0])"
   ]
  },
  {
   "cell_type": "code",
   "execution_count": 53,
   "metadata": {},
   "outputs": [],
   "source": [
    "NORMALIZED_JOCKEY_NAMES_LIST = []\n",
    "for i in race_info_dict[\"騎手\"]:\n",
    "    name_raw = i.text\n",
    "    name = name_raw.replace(\"\\n\", \"\")\n",
    "    NORMALIZED_JOCKEY_NAMES_LIST.append(name)"
   ]
  },
  {
   "cell_type": "code",
   "execution_count": 55,
   "metadata": {},
   "outputs": [],
   "source": [
    "NORMALIZED_GOAL_TIMES_LIST = []\n",
    "for i in race_info_dict[\"タイム\"]:\n",
    "    NORMALIZED_GOAL_TIMES_LIST.append(i.text)"
   ]
  },
  {
   "cell_type": "code",
   "execution_count": 57,
   "metadata": {},
   "outputs": [],
   "source": [
    "NORMALIZED_GOAL_MARGINS_LIST = []\n",
    "for i in race_info_dict[\"着差\"]:\n",
    "    NORMALIZED_GOAL_MARGINS_LIST.append(i.text)"
   ]
  },
  {
   "cell_type": "code",
   "execution_count": 59,
   "metadata": {},
   "outputs": [],
   "source": [
    "NORMALIZED_ORDER_TRANSITIONS_LIST = []\n",
    "for i in race_info_dict[\"通過\"]:\n",
    "    NORMALIZED_ORDER_TRANSITIONS_LIST.append(i.text)"
   ]
  },
  {
   "cell_type": "code",
   "execution_count": 61,
   "metadata": {},
   "outputs": [],
   "source": [
    "NORMALIZED_HALF_TIMES_LIST = []\n",
    "for i in race_info_dict[\"上り\"]:\n",
    "    NORMALIZED_HALF_TIMES_LIST.append(i.text)"
   ]
  },
  {
   "cell_type": "code",
   "execution_count": 63,
   "metadata": {},
   "outputs": [],
   "source": [
    "NORMALIZED_ODDS_LIST = []\n",
    "for i in race_info_dict[\"単勝\"]:\n",
    "    NORMALIZED_ODDS_LIST.append(i.text)"
   ]
  },
  {
   "cell_type": "code",
   "execution_count": 65,
   "metadata": {},
   "outputs": [],
   "source": [
    "NORMALIZED_POPULARITIES_LIST = []\n",
    "for i in race_info_dict[\"人気\"]:\n",
    "    NORMALIZED_POPULARITIES_LIST.append(i.text)"
   ]
  },
  {
   "cell_type": "code",
   "execution_count": 70,
   "metadata": {},
   "outputs": [],
   "source": [
    "NORMALIZED_HORSE_WEIGHTS_LIST = []\n",
    "for i in race_info_dict[\"馬体重\"]:\n",
    "    weight_raw = i.text\n",
    "    NORMALIZED_HORSE_WEIGHTS_LIST.append(re.findall(\"(\\d+)\\(\",weight_raw)[0])"
   ]
  },
  {
   "cell_type": "code",
   "execution_count": 105,
   "metadata": {},
   "outputs": [],
   "source": [
    "NORMALIZED_HORSE_WEIGHT_DIFFS_LIST = []\n",
    "for i in race_info_dict[\"馬体重\"]:\n",
    "    weight_raw = i.text\n",
    "    NORMALIZED_HORSE_WEIGHT_DIFFS_LIST.append(re.findall(\"[(]([\\+*|\\-*]\\w+)[)]\",weight_raw)[0])"
   ]
  },
  {
   "cell_type": "code",
   "execution_count": 112,
   "metadata": {},
   "outputs": [],
   "source": [
    "NORMALIZED_TRAINER_NAMES_LIST = []\n",
    "for i in race_info_dict[\"調教師\"]:\n",
    "    name_raw = i.text\n",
    "    name = name_raw.replace(\"\\n\", \"\")\n",
    "    NORMALIZED_TRAINER_NAMES_LIST.append(name)"
   ]
  },
  {
   "cell_type": "code",
   "execution_count": 114,
   "metadata": {},
   "outputs": [],
   "source": [
    "NORMALIZED_HORSE_OWNERS_LIST = []\n",
    "for i in race_info_dict[\"馬主\"]:\n",
    "    name_raw = i.text\n",
    "    name = name_raw.replace(\"\\n\", \"\")\n",
    "    NORMALIZED_HORSE_OWNERS_LIST.append(name)"
   ]
  },
  {
   "cell_type": "code",
   "execution_count": 117,
   "metadata": {},
   "outputs": [],
   "source": [
    "NORMALIZED_EARN_PRIZES_LIST = []\n",
    "for i in race_info_dict[\"賞金(万円)\"]:\n",
    "    NORMALIZED_EARN_PRIZES_LIST.append(i.text)"
   ]
  },
  {
   "cell_type": "code",
   "execution_count": 109,
   "metadata": {},
   "outputs": [
    {
     "data": {
      "text/plain": [
       "'+14'"
      ]
     },
     "execution_count": 109,
     "metadata": {},
     "output_type": "execute_result"
    }
   ],
   "source": [
    "re.findall(\"[(]([\\+|\\-]*\\w+)[)]\",\"444(+14)\")[0]"
   ]
  },
  {
   "cell_type": "code",
   "execution_count": 119,
   "metadata": {},
   "outputs": [
    {
     "name": "stdout",
     "output_type": "stream",
     "text": [
      "NORMALIZED_ARRIVAL_ORDERS_LIST = ['1', '2', '3', '4', '5', '6', '7', '8']\n",
      "NORMALIZED_BOX_NUMBERS_LIST = ['3', '2', '4', '6', '5', '8', '7', '1']\n",
      "NORMALIZED_HORSE_NUMBERS_LIST = ['3', '2', '4', '6', '5', '8', '7', '1']\n",
      "NORMALIZED_HORSE_NAMES_LIST = ['サニーシェルブール', 'チャーミングポポ', 'アービター', 'ナリノレッドスター', 'コスモグラシエ', 'ミツアキトン', 'エムオーシャルマン', 'チュウワエンペラー']\n",
      "NORMALIZED_HORSE_IDS_LIST = ['2017110039', '2017105812', '2017105215', '2015104492', '2017101980', '2013103314', '2016103784', '2016103803']\n",
      "NORMALIZED_HORSE_SEXES_LIST = ['セ', '牝', 'セ', '牡', '牝', '牝', '牝', '牡']\n",
      "NORMALIZED_HORSE_AGES_LIST = ['4', '4', '4', '6', '4', '8', '5', '5']\n",
      "NORMALIZED_JOCKEY_WEIGHTS_LIST = ['56', '54', '56', '56', '54', '51', '54', '56']\n",
      "NORMALIZED_JOCKEY_NAMES_LIST = ['吉井友彦', '大原浩司', '向山牧', '松本剛志', '森島貴之', '長江慶悟', '池田敏樹', '馬渕繁治']\n",
      "NORMALIZED_GOAL_TIMES_LIST = ['1:30.4', '1:31.4', '1:31.7', '1:32.1', '1:32.4', '1:33.3', '1:34.3', '1:34.9']\n",
      "NORMALIZED_GOAL_MARGINS_LIST = ['', '5', '1.1/2', '2', '1.1/2', '4', '5', '3']\n",
      "NORMALIZED_ORDER_TRANSITIONS_LIST = ['3-3-2', '1-1-1', '5-5-4', '2-2-3', '7-6-5', '8-8-7', '4-4-6', '6-7-8']\n",
      "NORMALIZED_HALF_TIMES_LIST = ['39.7', '41.4', '39.9', '41.8', '40.2', '39.9', '43.2', '42.3']\n",
      "NORMALIZED_ODDS_LIST = ['3.1', '5.4', '6.5', '1.8', '37.3', '138.7', '114.6', '118.2']\n",
      "NORMALIZED_POPULARITIES_LIST = ['2', '3', '4', '1', '5', '8', '6', '7']\n",
      "NORMALIZED_HORSE_WEIGHTS_LIST = ['444', '472', '455', '449', '433', '423', '444', '493']\n",
      "NORMALIZED_HORSE_WEIGHT_DIFFS_LIST = ['-14', '-1', '+3', '-3', '-2', '-1', '-1', '-1']\n",
      "NORMALIZED_TRAINER_NAMES_LIST = ['[地]森山英雄', '[地]森山英雄', '[地]後藤正義', '[地]加藤幸保', '[地]東川公則', '[地]後藤正義', '[地]湯前良人', '[地]加藤幸保']\n",
      "NORMALIZED_HORSE_OWNERS_LIST = ['豊原純弥', '村下義等', '紙谷洋一', '成塚清志', '杉浦和也', '山本光明', '遠藤喜和', '中西忍']\n",
      "NORMALIZED_EARN_PRIZES_LIST = ['27.0', '8.1', '4.1', '2.7', '1.4', '', '', '']\n"
     ]
    }
   ],
   "source": [
    "print(\"NORMALIZED_ARRIVAL_ORDERS_LIST = {}\".format(NORMALIZED_ARRIVAL_ORDERS_LIST)) \n",
    "print(\"NORMALIZED_BOX_NUMBERS_LIST = {}\".format(NORMALIZED_BOX_NUMBERS_LIST)) \n",
    "print(\"NORMALIZED_HORSE_NUMBERS_LIST = {}\".format(NORMALIZED_HORSE_NUMBERS_LIST)) \n",
    "print(\"NORMALIZED_HORSE_NAMES_LIST = {}\".format(NORMALIZED_HORSE_NAMES_LIST)) \n",
    "print(\"NORMALIZED_HORSE_IDS_LIST = {}\".format(NORMALIZED_HORSE_IDS_LIST)) \n",
    "print(\"NORMALIZED_HORSE_SEXES_LIST = {}\".format(NORMALIZED_HORSE_SEXES_LIST)) \n",
    "print(\"NORMALIZED_HORSE_AGES_LIST = {}\".format(NORMALIZED_HORSE_AGES_LIST)) \n",
    "print(\"NORMALIZED_JOCKEY_WEIGHTS_LIST = {}\".format(NORMALIZED_JOCKEY_WEIGHTS_LIST)) \n",
    "print(\"NORMALIZED_JOCKEY_NAMES_LIST = {}\".format(NORMALIZED_JOCKEY_NAMES_LIST)) \n",
    "print(\"NORMALIZED_GOAL_TIMES_LIST = {}\".format(NORMALIZED_GOAL_TIMES_LIST)) \n",
    "print(\"NORMALIZED_GOAL_MARGINS_LIST = {}\".format(NORMALIZED_GOAL_MARGINS_LIST)) \n",
    "print(\"NORMALIZED_ORDER_TRANSITIONS_LIST = {}\".format(NORMALIZED_ORDER_TRANSITIONS_LIST)) \n",
    "print(\"NORMALIZED_HALF_TIMES_LIST = {}\".format(NORMALIZED_HALF_TIMES_LIST)) \n",
    "print(\"NORMALIZED_ODDS_LIST = {}\".format(NORMALIZED_ODDS_LIST)) \n",
    "print(\"NORMALIZED_POPULARITIES_LIST = {}\".format(NORMALIZED_POPULARITIES_LIST)) \n",
    "print(\"NORMALIZED_HORSE_WEIGHTS_LIST = {}\".format(NORMALIZED_HORSE_WEIGHTS_LIST)) \n",
    "print(\"NORMALIZED_HORSE_WEIGHT_DIFFS_LIST = {}\".format(NORMALIZED_HORSE_WEIGHT_DIFFS_LIST)) \n",
    "print(\"NORMALIZED_TRAINER_NAMES_LIST = {}\".format(NORMALIZED_TRAINER_NAMES_LIST)) \n",
    "print(\"NORMALIZED_HORSE_OWNERS_LIST = {}\".format(NORMALIZED_HORSE_OWNERS_LIST)) \n",
    "print(\"NORMALIZED_EARN_PRIZES_LIST = {}\".format(NORMALIZED_EARN_PRIZES_LIST)) "
   ]
  },
  {
   "cell_type": "code",
   "execution_count": 11,
   "metadata": {},
   "outputs": [
    {
     "data": {
      "text/plain": [
       "{'着順': [<td class=\"txt_r\" nowrap=\"nowrap\">1</td>,\n",
       "  <td class=\"txt_r\" nowrap=\"nowrap\">2</td>,\n",
       "  <td class=\"txt_r\" nowrap=\"nowrap\">3</td>,\n",
       "  <td class=\"txt_r\" nowrap=\"nowrap\">4</td>,\n",
       "  <td class=\"txt_r\" nowrap=\"nowrap\">5</td>,\n",
       "  <td class=\"txt_r\" nowrap=\"nowrap\">6</td>,\n",
       "  <td class=\"txt_r\" nowrap=\"nowrap\">7</td>,\n",
       "  <td class=\"txt_r\" nowrap=\"nowrap\">8</td>],\n",
       " '枠番': [<td align=\"right\" class=\"w3ml\" nowrap=\"nowrap\"><span>3</span></td>,\n",
       "  <td align=\"right\" class=\"w2ml\" nowrap=\"nowrap\"><span>2</span></td>,\n",
       "  <td align=\"right\" class=\"w4ml\" nowrap=\"nowrap\"><span>4</span></td>,\n",
       "  <td align=\"right\" class=\"w6ml\" nowrap=\"nowrap\"><span>6</span></td>,\n",
       "  <td align=\"right\" class=\"w5ml\" nowrap=\"nowrap\"><span>5</span></td>,\n",
       "  <td align=\"right\" class=\"w8ml\" nowrap=\"nowrap\"><span>8</span></td>,\n",
       "  <td align=\"right\" class=\"w7ml\" nowrap=\"nowrap\"><span>7</span></td>,\n",
       "  <td align=\"right\" class=\"w1ml\" nowrap=\"nowrap\"><span>1</span></td>],\n",
       " '馬番': [<td class=\"txt_r\" nowrap=\"nowrap\">3</td>,\n",
       "  <td class=\"txt_r\" nowrap=\"nowrap\">2</td>,\n",
       "  <td class=\"txt_r\" nowrap=\"nowrap\">4</td>,\n",
       "  <td class=\"txt_r\" nowrap=\"nowrap\">6</td>,\n",
       "  <td class=\"txt_r\" nowrap=\"nowrap\">5</td>,\n",
       "  <td class=\"txt_r\" nowrap=\"nowrap\">8</td>,\n",
       "  <td class=\"txt_r\" nowrap=\"nowrap\">7</td>,\n",
       "  <td class=\"txt_r\" nowrap=\"nowrap\">1</td>],\n",
       " '馬名': [<td class=\"txt_l\" nowrap=\"nowrap\">\n",
       "  <a href=\"/horse/2017110039/\" id=\"umalink_202147010804\" title=\"サニーシェルブール\">サニーシェルブール</a>\n",
       "  </td>,\n",
       "  <td class=\"txt_l\" nowrap=\"nowrap\">\n",
       "  <a href=\"/horse/2017105812/\" id=\"umalink_202147010804\" title=\"チャーミングポポ\">チャーミングポポ</a>\n",
       "  </td>,\n",
       "  <td class=\"txt_l\" nowrap=\"nowrap\">\n",
       "  <a href=\"/horse/2017105215/\" id=\"umalink_202147010804\" title=\"アービター\">アービター</a>\n",
       "  </td>,\n",
       "  <td class=\"txt_l\" nowrap=\"nowrap\">\n",
       "  <a href=\"/horse/2015104492/\" id=\"umalink_202147010804\" title=\"ナリノレッドスター\">ナリノレッドスター</a>\n",
       "  </td>,\n",
       "  <td class=\"txt_l\" nowrap=\"nowrap\">\n",
       "  <a href=\"/horse/2017101980/\" id=\"umalink_202147010804\" title=\"コスモグラシエ\">コスモグラシエ</a>\n",
       "  </td>,\n",
       "  <td class=\"txt_l\" nowrap=\"nowrap\">\n",
       "  <a href=\"/horse/2013103314/\" id=\"umalink_202147010804\" title=\"ミツアキトン\">ミツアキトン</a>\n",
       "  </td>,\n",
       "  <td class=\"txt_l\" nowrap=\"nowrap\">\n",
       "  <a href=\"/horse/2016103784/\" id=\"umalink_202147010804\" title=\"エムオーシャルマン\">エムオーシャルマン</a>\n",
       "  </td>,\n",
       "  <td class=\"txt_l\" nowrap=\"nowrap\">\n",
       "  <a href=\"/horse/2016103803/\" id=\"umalink_202147010804\" title=\"チュウワエンペラー\">チュウワエンペラー</a>\n",
       "  </td>],\n",
       " '性齢': [<td class=\"txt_c\" nowrap=\"nowrap\">セ4</td>,\n",
       "  <td class=\"txt_c\" nowrap=\"nowrap\">牝4</td>,\n",
       "  <td class=\"txt_c\" nowrap=\"nowrap\">セ4</td>,\n",
       "  <td class=\"txt_c\" nowrap=\"nowrap\">牡6</td>,\n",
       "  <td class=\"txt_c\" nowrap=\"nowrap\">牝4</td>,\n",
       "  <td class=\"txt_c\" nowrap=\"nowrap\">牝8</td>,\n",
       "  <td class=\"txt_c\" nowrap=\"nowrap\">牝5</td>,\n",
       "  <td class=\"txt_c\" nowrap=\"nowrap\">牡5</td>],\n",
       " '斤量': [<td class=\"txt_c\" nowrap=\"nowrap\">56</td>,\n",
       "  <td class=\"txt_c\" nowrap=\"nowrap\">54</td>,\n",
       "  <td class=\"txt_c\" nowrap=\"nowrap\">56</td>,\n",
       "  <td class=\"txt_c\" nowrap=\"nowrap\">56</td>,\n",
       "  <td class=\"txt_c\" nowrap=\"nowrap\">54</td>,\n",
       "  <td class=\"txt_c\" nowrap=\"nowrap\">51</td>,\n",
       "  <td class=\"txt_c\" nowrap=\"nowrap\">54</td>,\n",
       "  <td class=\"txt_c\" nowrap=\"nowrap\">56</td>],\n",
       " '騎手': [<td class=\"txt_l\" nowrap=\"nowrap\">\n",
       "  <a href=\"/jockey/05451/\" title=\"吉井友彦\">吉井友彦</a>\n",
       "  </td>,\n",
       "  <td class=\"txt_l\" nowrap=\"nowrap\">\n",
       "  <a href=\"/jockey/05368/\" title=\"大原浩司\">大原浩司</a>\n",
       "  </td>,\n",
       "  <td class=\"txt_l\" nowrap=\"nowrap\">\n",
       "  <a href=\"/jockey/00410/\" title=\"向山牧\">向山牧</a>\n",
       "  </td>,\n",
       "  <td class=\"txt_l\" nowrap=\"nowrap\">\n",
       "  <a href=\"/jockey/a0162/\" title=\"松本剛志\">松本剛志</a>\n",
       "  </td>,\n",
       "  <td class=\"txt_l\" nowrap=\"nowrap\">\n",
       "  <a href=\"/jockey/a027b/\" title=\"森島貴之\">森島貴之</a>\n",
       "  </td>,\n",
       "  <td class=\"txt_l\" nowrap=\"nowrap\">\n",
       "  <a href=\"/jockey/a042a/\" title=\"長江慶悟\">長江慶悟</a>\n",
       "  </td>,\n",
       "  <td class=\"txt_l\" nowrap=\"nowrap\">\n",
       "  <a href=\"/jockey/05523/\" title=\"池田敏樹\">池田敏樹</a>\n",
       "  </td>,\n",
       "  <td class=\"txt_l\" nowrap=\"nowrap\">\n",
       "  <a href=\"/jockey/05088/\" title=\"馬渕繁治\">馬渕繁治</a>\n",
       "  </td>],\n",
       " 'タイム': [<td class=\"txt_r\" nowrap=\"nowrap\">1:30.4</td>,\n",
       "  <td class=\"txt_r\" nowrap=\"nowrap\">1:31.4</td>,\n",
       "  <td class=\"txt_r\" nowrap=\"nowrap\">1:31.7</td>,\n",
       "  <td class=\"txt_r\" nowrap=\"nowrap\">1:32.1</td>,\n",
       "  <td class=\"txt_r\" nowrap=\"nowrap\">1:32.4</td>,\n",
       "  <td class=\"txt_r\" nowrap=\"nowrap\">1:33.3</td>,\n",
       "  <td class=\"txt_r\" nowrap=\"nowrap\">1:34.3</td>,\n",
       "  <td class=\"txt_r\" nowrap=\"nowrap\">1:34.9</td>],\n",
       " '着差': [<td class=\"txt_c\" nowrap=\"nowrap\"></td>,\n",
       "  <td class=\"txt_c\" nowrap=\"nowrap\">5</td>,\n",
       "  <td class=\"txt_c\" nowrap=\"nowrap\">1.1/2</td>,\n",
       "  <td class=\"txt_c\" nowrap=\"nowrap\">2</td>,\n",
       "  <td class=\"txt_c\" nowrap=\"nowrap\">1.1/2</td>,\n",
       "  <td class=\"txt_c\" nowrap=\"nowrap\">4</td>,\n",
       "  <td class=\"txt_c\" nowrap=\"nowrap\">5</td>,\n",
       "  <td class=\"txt_c\" nowrap=\"nowrap\">3</td>],\n",
       " 'ﾀｲﾑ指数': [<td class=\"speed_index bml\" nowrap=\"nowrap\">\n",
       "  <div class=\"txt_c\">\n",
       "  <a data-theme=\"07003\" href=\"https://www.netkeiba.com/premium/?service=p13\" id=\"a_monthly_goods_link_01\">**</a>\n",
       "  </div>\n",
       "  </td>,\n",
       "  <td class=\"speed_index bml\" nowrap=\"nowrap\">\n",
       "  <div class=\"txt_c\">\n",
       "  <a data-theme=\"07003\" href=\"https://www.netkeiba.com/premium/?service=p13\" id=\"a_monthly_goods_link_01\">**</a>\n",
       "  </div>\n",
       "  </td>,\n",
       "  <td class=\"speed_index bml\" nowrap=\"nowrap\">\n",
       "  <div class=\"txt_c\">\n",
       "  <a data-theme=\"07003\" href=\"https://www.netkeiba.com/premium/?service=p13\" id=\"a_monthly_goods_link_01\">**</a>\n",
       "  </div>\n",
       "  </td>,\n",
       "  <td class=\"speed_index bml\" nowrap=\"nowrap\">\n",
       "  <div class=\"txt_c\">\n",
       "  <a data-theme=\"07003\" href=\"https://www.netkeiba.com/premium/?service=p13\" id=\"a_monthly_goods_link_01\">**</a>\n",
       "  </div>\n",
       "  </td>,\n",
       "  <td class=\"speed_index bml\" nowrap=\"nowrap\">\n",
       "  <div class=\"txt_c\">\n",
       "  <a data-theme=\"07003\" href=\"https://www.netkeiba.com/premium/?service=p13\" id=\"a_monthly_goods_link_01\">**</a>\n",
       "  </div>\n",
       "  </td>,\n",
       "  <td class=\"speed_index bml\" nowrap=\"nowrap\">\n",
       "  <div class=\"txt_c\">\n",
       "  <a data-theme=\"07003\" href=\"https://www.netkeiba.com/premium/?service=p13\" id=\"a_monthly_goods_link_01\">**</a>\n",
       "  </div>\n",
       "  </td>,\n",
       "  <td class=\"speed_index bml\" nowrap=\"nowrap\">\n",
       "  <div class=\"txt_c\">\n",
       "  <a data-theme=\"07003\" href=\"https://www.netkeiba.com/premium/?service=p13\" id=\"a_monthly_goods_link_01\">**</a>\n",
       "  </div>\n",
       "  </td>,\n",
       "  <td class=\"speed_index bml\" nowrap=\"nowrap\">\n",
       "  <div class=\"txt_c\">\n",
       "  <a data-theme=\"07003\" href=\"https://www.netkeiba.com/premium/?service=p13\" id=\"a_monthly_goods_link_01\">**</a>\n",
       "  </div>\n",
       "  </td>],\n",
       " '通過': [<td nowrap=\"nowrap\">3-3-2</td>,\n",
       "  <td nowrap=\"nowrap\">1-1-1</td>,\n",
       "  <td nowrap=\"nowrap\">5-5-4</td>,\n",
       "  <td nowrap=\"nowrap\">2-2-3</td>,\n",
       "  <td nowrap=\"nowrap\">7-6-5</td>,\n",
       "  <td nowrap=\"nowrap\">8-8-7</td>,\n",
       "  <td nowrap=\"nowrap\">4-4-6</td>,\n",
       "  <td nowrap=\"nowrap\">6-7-8</td>],\n",
       " '上り': [<td class=\"txt_c\" nowrap=\"nowrap\"><span>39.7</span></td>,\n",
       "  <td class=\"txt_c\" nowrap=\"nowrap\"><span>41.4</span></td>,\n",
       "  <td class=\"txt_c\" nowrap=\"nowrap\"><span>39.9</span></td>,\n",
       "  <td class=\"txt_c\" nowrap=\"nowrap\"><span>41.8</span></td>,\n",
       "  <td class=\"txt_c\" nowrap=\"nowrap\"><span>40.2</span></td>,\n",
       "  <td class=\"txt_c\" nowrap=\"nowrap\"><span>39.9</span></td>,\n",
       "  <td class=\"txt_c\" nowrap=\"nowrap\"><span>43.2</span></td>,\n",
       "  <td class=\"txt_c\" nowrap=\"nowrap\"><span>42.3</span></td>],\n",
       " '単勝': [<td class=\"txt_r\" nowrap=\"nowrap\">3.1</td>,\n",
       "  <td class=\"txt_r\" nowrap=\"nowrap\">5.4</td>,\n",
       "  <td class=\"txt_r\" nowrap=\"nowrap\">6.5</td>,\n",
       "  <td class=\"txt_r\" nowrap=\"nowrap\">1.8</td>,\n",
       "  <td class=\"txt_r\" nowrap=\"nowrap\">37.3</td>,\n",
       "  <td class=\"txt_r\" nowrap=\"nowrap\">138.7</td>,\n",
       "  <td class=\"txt_r\" nowrap=\"nowrap\">114.6</td>,\n",
       "  <td class=\"txt_r\" nowrap=\"nowrap\">118.2</td>],\n",
       " '人気': [<td align=\"right\" class=\"r2ml\" nowrap=\"nowrap\"><span>2</span></td>,\n",
       "  <td align=\"right\" class=\"r3ml\" nowrap=\"nowrap\"><span>3</span></td>,\n",
       "  <td align=\"right\" class=\"bml\" nowrap=\"nowrap\"><span>4</span></td>,\n",
       "  <td align=\"right\" class=\"r1ml\" nowrap=\"nowrap\"><span>1</span></td>,\n",
       "  <td align=\"right\" class=\"bml\" nowrap=\"nowrap\"><span>5</span></td>,\n",
       "  <td align=\"right\" class=\"bml\" nowrap=\"nowrap\"><span>8</span></td>,\n",
       "  <td align=\"right\" class=\"bml\" nowrap=\"nowrap\"><span>6</span></td>,\n",
       "  <td align=\"right\" class=\"bml\" nowrap=\"nowrap\"><span>7</span></td>],\n",
       " '馬体重': [<td nowrap=\"nowrap\">444(-14)</td>,\n",
       "  <td nowrap=\"nowrap\">472(-1)</td>,\n",
       "  <td nowrap=\"nowrap\">455(+3)</td>,\n",
       "  <td nowrap=\"nowrap\">449(-3)</td>,\n",
       "  <td nowrap=\"nowrap\">433(-2)</td>,\n",
       "  <td nowrap=\"nowrap\">423(-1)</td>,\n",
       "  <td nowrap=\"nowrap\">444(-1)</td>,\n",
       "  <td nowrap=\"nowrap\">493(-1)</td>],\n",
       " '調教ﾀｲﾑ': [<td class=\"txt_c\" nowrap=\"nowrap\">\n",
       "  </td>,\n",
       "  <td class=\"txt_c\" nowrap=\"nowrap\">\n",
       "  </td>,\n",
       "  <td class=\"txt_c\" nowrap=\"nowrap\">\n",
       "  </td>,\n",
       "  <td class=\"txt_c\" nowrap=\"nowrap\">\n",
       "  </td>,\n",
       "  <td class=\"txt_c\" nowrap=\"nowrap\">\n",
       "  </td>,\n",
       "  <td class=\"txt_c\" nowrap=\"nowrap\">\n",
       "  </td>,\n",
       "  <td class=\"txt_c\" nowrap=\"nowrap\">\n",
       "  </td>,\n",
       "  <td class=\"txt_c\" nowrap=\"nowrap\">\n",
       "  </td>],\n",
       " '厩舎ｺﾒﾝﾄ': [<td class=\"txt_c\" nowrap=\"nowrap\">\n",
       "  </td>,\n",
       "  <td class=\"txt_c\" nowrap=\"nowrap\">\n",
       "  </td>,\n",
       "  <td class=\"txt_c\" nowrap=\"nowrap\">\n",
       "  </td>,\n",
       "  <td class=\"txt_c\" nowrap=\"nowrap\">\n",
       "  </td>,\n",
       "  <td class=\"txt_c\" nowrap=\"nowrap\">\n",
       "  </td>,\n",
       "  <td class=\"txt_c\" nowrap=\"nowrap\">\n",
       "  </td>,\n",
       "  <td class=\"txt_c\" nowrap=\"nowrap\">\n",
       "  </td>,\n",
       "  <td class=\"txt_c\" nowrap=\"nowrap\">\n",
       "  </td>],\n",
       " '備考': [<td nowrap=\"nowrap\">\n",
       "  </td>,\n",
       "  <td nowrap=\"nowrap\">\n",
       "  </td>,\n",
       "  <td nowrap=\"nowrap\">\n",
       "  </td>,\n",
       "  <td nowrap=\"nowrap\">\n",
       "  </td>,\n",
       "  <td nowrap=\"nowrap\">\n",
       "  </td>,\n",
       "  <td nowrap=\"nowrap\">\n",
       "  </td>,\n",
       "  <td nowrap=\"nowrap\">\n",
       "  </td>,\n",
       "  <td nowrap=\"nowrap\">\n",
       "  </td>],\n",
       " '調教師': [<td class=\"txt_l\" nowrap=\"nowrap\">\n",
       "  [地]\n",
       "  <a href=\"/trainer/05071/\" title=\"森山英雄\">森山英雄</a>\n",
       "  </td>,\n",
       "  <td class=\"txt_l\" nowrap=\"nowrap\">\n",
       "  [地]\n",
       "  <a href=\"/trainer/05071/\" title=\"森山英雄\">森山英雄</a>\n",
       "  </td>,\n",
       "  <td class=\"txt_l\" nowrap=\"nowrap\">\n",
       "  [地]\n",
       "  <a href=\"/trainer/a0276/\" title=\"後藤正義\">後藤正義</a>\n",
       "  </td>,\n",
       "  <td class=\"txt_l\" nowrap=\"nowrap\">\n",
       "  [地]\n",
       "  <a href=\"/trainer/05544/\" title=\"加藤幸保\">加藤幸保</a>\n",
       "  </td>,\n",
       "  <td class=\"txt_l\" nowrap=\"nowrap\">\n",
       "  [地]\n",
       "  <a href=\"/trainer/a03e9/\" title=\"東川公則\">東川公則</a>\n",
       "  </td>,\n",
       "  <td class=\"txt_l\" nowrap=\"nowrap\">\n",
       "  [地]\n",
       "  <a href=\"/trainer/a0276/\" title=\"後藤正義\">後藤正義</a>\n",
       "  </td>,\n",
       "  <td class=\"txt_l\" nowrap=\"nowrap\">\n",
       "  [地]\n",
       "  <a href=\"/trainer/05708/\" title=\"湯前良人\">湯前良人</a>\n",
       "  </td>,\n",
       "  <td class=\"txt_l\" nowrap=\"nowrap\">\n",
       "  [地]\n",
       "  <a href=\"/trainer/05544/\" title=\"加藤幸保\">加藤幸保</a>\n",
       "  </td>],\n",
       " '馬主': [<td class=\"txt_l w3ml\" nowrap=\"nowrap\">\n",
       "  <a href=\"/owner/x07c20/\" title=\"豊原純弥\">豊原純弥</a>\n",
       "  </td>,\n",
       "  <td class=\"txt_l w2ml\" nowrap=\"nowrap\">\n",
       "  <a href=\"/owner/550007/\" title=\"村下義等\">村下義等</a>\n",
       "  </td>,\n",
       "  <td class=\"txt_l w4ml\" nowrap=\"nowrap\">\n",
       "  <a href=\"/owner/x03bd1/\" title=\"紙谷洋一\">紙谷洋一</a>\n",
       "  </td>,\n",
       "  <td class=\"txt_l w6ml\" nowrap=\"nowrap\">\n",
       "  <a href=\"/owner/333030/\" title=\"成塚清志\">成塚清志</a>\n",
       "  </td>,\n",
       "  <td class=\"txt_l w5ml\" nowrap=\"nowrap\">\n",
       "  <a href=\"/owner/391033/\" title=\"杉浦和也\">杉浦和也</a>\n",
       "  </td>,\n",
       "  <td class=\"txt_l w8ml\" nowrap=\"nowrap\">\n",
       "  <a href=\"/owner/018006/\" title=\"山本光明\">山本光明</a>\n",
       "  </td>,\n",
       "  <td class=\"txt_l w7ml\" nowrap=\"nowrap\">\n",
       "  <a href=\"/owner/x09067/\" title=\"遠藤喜和\">遠藤喜和</a>\n",
       "  </td>,\n",
       "  <td class=\"txt_l w1ml\" nowrap=\"nowrap\">\n",
       "  <a href=\"/owner/628007/\" title=\"中西忍\">中西忍</a>\n",
       "  </td>],\n",
       " '賞金(万円)': [<td class=\"txt_r\" nowrap=\"nowrap\">27.0</td>,\n",
       "  <td class=\"txt_r\" nowrap=\"nowrap\">8.1</td>,\n",
       "  <td class=\"txt_r\" nowrap=\"nowrap\">4.1</td>,\n",
       "  <td class=\"txt_r\" nowrap=\"nowrap\">2.7</td>,\n",
       "  <td class=\"txt_r\" nowrap=\"nowrap\">1.4</td>,\n",
       "  <td class=\"txt_r\" nowrap=\"nowrap\"></td>,\n",
       "  <td class=\"txt_r\" nowrap=\"nowrap\"></td>,\n",
       "  <td class=\"txt_r\" nowrap=\"nowrap\"></td>]}"
      ]
     },
     "execution_count": 11,
     "metadata": {},
     "output_type": "execute_result"
    }
   ],
   "source": [
    "race_info_dict"
   ]
  },
  {
   "cell_type": "code",
   "execution_count": null,
   "metadata": {},
   "outputs": [],
   "source": []
  }
 ],
 "metadata": {
  "kernelspec": {
   "display_name": "Python 3",
   "language": "python",
   "name": "python3"
  },
  "language_info": {
   "codemirror_mode": {
    "name": "ipython",
    "version": 3
   },
   "file_extension": ".py",
   "mimetype": "text/x-python",
   "name": "python",
   "nbconvert_exporter": "python",
   "pygments_lexer": "ipython3",
   "version": "3.8.1"
  }
 },
 "nbformat": 4,
 "nbformat_minor": 4
}
