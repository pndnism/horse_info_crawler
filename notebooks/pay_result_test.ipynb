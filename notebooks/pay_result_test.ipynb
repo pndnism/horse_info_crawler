{
 "cells": [
  {
   "cell_type": "code",
   "execution_count": 74,
   "metadata": {},
   "outputs": [],
   "source": [
    "URL = \"https://db.netkeiba.com/race/202105030211/\"\n",
    "URL = \"https://db.netkeiba.com/race/2021A7a00104/\""
   ]
  },
  {
   "cell_type": "code",
   "execution_count": 75,
   "metadata": {},
   "outputs": [],
   "source": [
    "import requests\n",
    "from bs4 import BeautifulSoup"
   ]
  },
  {
   "cell_type": "code",
   "execution_count": 76,
   "metadata": {},
   "outputs": [],
   "source": [
    "response = requests.get(URL)"
   ]
  },
  {
   "cell_type": "code",
   "execution_count": 77,
   "metadata": {},
   "outputs": [],
   "source": [
    "soup = BeautifulSoup(response.content, \"lxml\")"
   ]
  },
  {
   "cell_type": "code",
   "execution_count": 78,
   "metadata": {},
   "outputs": [],
   "source": [
    "tables = soup.find_all(\"table\", summary=\"払い戻し\")"
   ]
  },
  {
   "cell_type": "code",
   "execution_count": 80,
   "metadata": {},
   "outputs": [
    {
     "data": {
      "text/plain": [
       "[]"
      ]
     },
     "execution_count": 80,
     "metadata": {},
     "output_type": "execute_result"
    }
   ],
   "source": [
    "tables"
   ]
  },
  {
   "cell_type": "code",
   "execution_count": 52,
   "metadata": {},
   "outputs": [],
   "source": [
    "horse_detail_dict = {}\n",
    "for table in tables:\n",
    "    count = 0\n",
    "    for i in table.find_all(\"th\"):\n",
    "        horse_detail_dict[i.text] = [i.get_text(',').split(',') for i in table.find_all(\"tr\")[count].find_all(\"td\")]\n",
    "        count += 1"
   ]
  },
  {
   "cell_type": "code",
   "execution_count": 83,
   "metadata": {},
   "outputs": [
    {
     "data": {
      "text/plain": [
       "True"
      ]
     },
     "execution_count": 83,
     "metadata": {},
     "output_type": "execute_result"
    }
   ],
   "source": [
    "\"複勝\" in horse_detail_dict.keys()"
   ]
  },
  {
   "cell_type": "code",
   "execution_count": 14,
   "metadata": {},
   "outputs": [],
   "source": [
    "horse_detail_dict = {}\n",
    "for i in table.find_all(\"th\"):\n",
    "    horse_detail_dict[i.text] = []\n",
    "for i in table.find_all('th'):\n",
    "    count = 0\n",
    "    tmp = i.find_all(\"td\")\n",
    "    for i in tmp:\n",
    "        horse_detail_dict[list(horse_detail_dict.keys())[count]].append(i)\n",
    "        count += 1"
   ]
  },
  {
   "cell_type": "code",
   "execution_count": 17,
   "metadata": {},
   "outputs": [
    {
     "data": {
      "text/plain": [
       "'単勝'"
      ]
     },
     "execution_count": 17,
     "metadata": {},
     "output_type": "execute_result"
    }
   ],
   "source": [
    "table.find_all(\"tr\")[0].find(\"th\").text"
   ]
  },
  {
   "cell_type": "code",
   "execution_count": 38,
   "metadata": {},
   "outputs": [],
   "source": [
    "horse_detail_dict = {}\n",
    "count = 0\n",
    "for i in table.find_all(\"th\"):\n",
    "    horse_detail_dict[i.text] = [i.get_text(',').split(',') for i in table.find_all(\"tr\")[count].find_all(\"td\")]\n",
    "    count += 1"
   ]
  },
  {
   "cell_type": "code",
   "execution_count": 39,
   "metadata": {},
   "outputs": [
    {
     "data": {
      "text/plain": [
       "{'単勝': [['11'], ['4', '760'], ['8']],\n",
       " '複勝': [['11', '5', '13'], ['710', '110', '240'], ['9', '1', '4']],\n",
       " '枠連': [['4 - 7'], ['720'], ['4']],\n",
       " '馬連': [['5 - 11'], ['2', '950'], ['9']]}"
      ]
     },
     "execution_count": 39,
     "metadata": {},
     "output_type": "execute_result"
    }
   ],
   "source": [
    "horse_detail_dict"
   ]
  },
  {
   "cell_type": "code",
   "execution_count": 30,
   "metadata": {},
   "outputs": [
    {
     "data": {
      "text/plain": [
       "['11', '4,760', '8']"
      ]
     },
     "execution_count": 30,
     "metadata": {},
     "output_type": "execute_result"
    }
   ],
   "source": [
    "[i.text for i in table.find_all(\"tr\")[0].find_all(\"td\")]"
   ]
  },
  {
   "cell_type": "code",
   "execution_count": 34,
   "metadata": {},
   "outputs": [
    {
     "data": {
      "text/plain": [
       "[['11', '5', '13'], ['710', '110', '240'], ['9', '1', '4']]"
      ]
     },
     "execution_count": 34,
     "metadata": {},
     "output_type": "execute_result"
    }
   ],
   "source": [
    "[i.get_text(',').split(',') for i in table.find_all(\"tr\")[1].find_all(\"td\")]"
   ]
  },
  {
   "cell_type": "code",
   "execution_count": 35,
   "metadata": {},
   "outputs": [
    {
     "data": {
      "text/plain": [
       "[['4 - 7'], ['720'], ['4']]"
      ]
     },
     "execution_count": 35,
     "metadata": {},
     "output_type": "execute_result"
    }
   ],
   "source": [
    "[i.get_text(',').split(',') for i in table.find_all(\"tr\")[2].find_all(\"td\")]"
   ]
  },
  {
   "cell_type": "code",
   "execution_count": 36,
   "metadata": {},
   "outputs": [
    {
     "data": {
      "text/plain": [
       "[['5 - 11'], ['2', '950'], ['9']]"
      ]
     },
     "execution_count": 36,
     "metadata": {},
     "output_type": "execute_result"
    }
   ],
   "source": [
    "[i.get_text(',').split(',') for i in table.find_all(\"tr\")[3].find_all(\"td\")]"
   ]
  },
  {
   "cell_type": "code",
   "execution_count": 55,
   "metadata": {},
   "outputs": [],
   "source": [
    "import pandas as pd"
   ]
  },
  {
   "cell_type": "code",
   "execution_count": 57,
   "metadata": {},
   "outputs": [
    {
     "data": {
      "text/plain": [
       "(0, 0)"
      ]
     },
     "execution_count": 57,
     "metadata": {},
     "output_type": "execute_result"
    }
   ],
   "source": [
    "pd.DataFrame().shape"
   ]
  },
  {
   "cell_type": "code",
   "execution_count": 58,
   "metadata": {},
   "outputs": [],
   "source": [
    "tansho=[['5'], ['130'], ['1']]\n",
    "fukusho=[['5', '6'], ['100', '130'], ['1', '2']]\n",
    "umaren=[['5 - 6'], ['190'], ['1']]\n",
    "wide=[['5 - 6', '2 - 5', '2 - 6'], ['120', '140', '160'], ['1', '2', '3']]\n",
    "umatan=[['5 → 6'], ['260'], ['1']]\n",
    "sanrentan=[['5 → 6 → 2'], ['570'], ['1']]\n",
    "sanrenpuku=[['2 - 5 - 6'], ['290'], ['1']]"
   ]
  },
  {
   "cell_type": "code",
   "execution_count": 65,
   "metadata": {},
   "outputs": [],
   "source": [
    "tansho_prize = tansho[1][0]\n",
    "fukusho_prize_1st = fukusho[1][0]\n",
    "fukusho_prize_2nd = fukusho[1][1]\n",
    "umaren_prize = umaren[1][0]\n",
    "wide_prize_1st_2nd = wide[1][0] \n",
    "wide_prize_1st_3rd = wide[1][1]\n",
    "wide_prize_2nd_3rd = wide[1][2]\n",
    "umatan_prize = umatan[1][0]\n",
    "sanrentan_prize = sanrentan[1][0]\n",
    "sanrenpuku_prize = sanrenpuku[1][0]"
   ]
  },
  {
   "cell_type": "code",
   "execution_count": 64,
   "metadata": {},
   "outputs": [
    {
     "data": {
      "text/plain": [
       "'100'"
      ]
     },
     "execution_count": 64,
     "metadata": {},
     "output_type": "execute_result"
    }
   ],
   "source": [
    "fukusho_prize_1st"
   ]
  },
  {
   "cell_type": "code",
   "execution_count": 66,
   "metadata": {},
   "outputs": [],
   "source": [
    "test_dict = {'tansho_prize': '130',\n",
    " 'fukusho_prize_1st': '100',\n",
    " 'fukusho_prize_2nd': '130',\n",
    " 'umaren_prize': '190',\n",
    " 'wide_prize_1st_2nd': '120',\n",
    " 'wide_prize_1st_3rd': '140',\n",
    " 'wide_prize_2nd_3rd': '160',\n",
    " 'umatan_prize': '260',\n",
    " 'sanrentan_prize': '570',\n",
    " 'sanrenpuku_prize': '290'}"
   ]
  },
  {
   "cell_type": "code",
   "execution_count": 73,
   "metadata": {},
   "outputs": [
    {
     "data": {
      "text/html": [
       "<div>\n",
       "<style scoped>\n",
       "    .dataframe tbody tr th:only-of-type {\n",
       "        vertical-align: middle;\n",
       "    }\n",
       "\n",
       "    .dataframe tbody tr th {\n",
       "        vertical-align: top;\n",
       "    }\n",
       "\n",
       "    .dataframe thead th {\n",
       "        text-align: right;\n",
       "    }\n",
       "</style>\n",
       "<table border=\"1\" class=\"dataframe\">\n",
       "  <thead>\n",
       "    <tr style=\"text-align: right;\">\n",
       "      <th></th>\n",
       "      <th>tansho_prize</th>\n",
       "      <th>fukusho_prize_1st</th>\n",
       "      <th>fukusho_prize_2nd</th>\n",
       "      <th>umaren_prize</th>\n",
       "      <th>wide_prize_1st_2nd</th>\n",
       "      <th>wide_prize_1st_3rd</th>\n",
       "      <th>wide_prize_2nd_3rd</th>\n",
       "      <th>umatan_prize</th>\n",
       "      <th>sanrentan_prize</th>\n",
       "      <th>sanrenpuku_prize</th>\n",
       "    </tr>\n",
       "  </thead>\n",
       "  <tbody>\n",
       "    <tr>\n",
       "      <th>0</th>\n",
       "      <td>130</td>\n",
       "      <td>100</td>\n",
       "      <td>130</td>\n",
       "      <td>190</td>\n",
       "      <td>120</td>\n",
       "      <td>140</td>\n",
       "      <td>160</td>\n",
       "      <td>260</td>\n",
       "      <td>570</td>\n",
       "      <td>290</td>\n",
       "    </tr>\n",
       "  </tbody>\n",
       "</table>\n",
       "</div>"
      ],
      "text/plain": [
       "  tansho_prize fukusho_prize_1st fukusho_prize_2nd umaren_prize  \\\n",
       "0          130               100               130          190   \n",
       "\n",
       "  wide_prize_1st_2nd wide_prize_1st_3rd wide_prize_2nd_3rd umatan_prize  \\\n",
       "0                120                140                160          260   \n",
       "\n",
       "  sanrentan_prize sanrenpuku_prize  \n",
       "0             570              290  "
      ]
     },
     "execution_count": 73,
     "metadata": {},
     "output_type": "execute_result"
    }
   ],
   "source": [
    "pd.DataFrame(test_dict,index=[0])"
   ]
  },
  {
   "cell_type": "code",
   "execution_count": null,
   "metadata": {},
   "outputs": [],
   "source": []
  }
 ],
 "metadata": {
  "jupytext": {
   "cell_metadata_filter": "-all",
   "notebook_metadata_filter": "-all"
  },
  "kernelspec": {
   "display_name": "Python 3",
   "language": "python",
   "name": "python3"
  },
  "language_info": {
   "codemirror_mode": {
    "name": "ipython",
    "version": 3
   },
   "file_extension": ".py",
   "mimetype": "text/x-python",
   "name": "python",
   "nbconvert_exporter": "python",
   "pygments_lexer": "ipython3",
   "version": "3.8.1"
  }
 },
 "nbformat": 4,
 "nbformat_minor": 4
}
